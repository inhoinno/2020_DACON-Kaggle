{
 "cells": [
  {
   "cell_type": "code",
   "execution_count": 1,
   "metadata": {},
   "outputs": [],
   "source": [
    "import pandas as pd\n",
    "import numpy as np\n",
    "import seaborn as sns\n",
    "import matplotlib.pyplot as plt\n",
    "import re\n",
    "from pathlib import Path\n",
    "from matplotlib import rcParams, pyplot as plt\n",
    "import numpy as np\n",
    "import os\n",
    "import pandas as pd\n",
    "from pathlib import Path\n",
    "import re\n",
    "from sklearn.metrics import accuracy_score, log_loss\n",
    "from sklearn.model_selection import StratifiedKFold\n",
    "%matplotlib inline\n",
    "%config InlineBackend.figure_format = 'retina'"
   ]
  },
  {
   "cell_type": "code",
   "execution_count": 2,
   "metadata": {},
   "outputs": [],
   "source": [
    "data_dir = Path('./open')\n",
    "feature_dir = Path('./build/feature')\n",
    "val_dir = Path('./ensemble/build/val')\n",
    "tst_dir = Path('./ensemble/build/tst')\n",
    "sub_dir = Path('./open/sub')\n",
    "dirs = [feature_dir, val_dir, tst_dir, sub_dir]\n",
    "for d in dirs:\n",
    "    os.makedirs(d, exist_ok=True)\n",
    "\n",
    "trn_file = data_dir / 'train_processed_500.csv'\n",
    "tst_file = data_dir / 'test_x.csv'\n",
    "sample_file = data_dir / 'sample_submission.csv'\n",
    "glove_file = './dataset/glove.6B/glove.6B.100d.txt'\n",
    "\n",
    "target_col = 'author'\n",
    "n_fold = 5\n",
    "n_class = 5\n",
    "seed = 42"
   ]
  },
  {
   "cell_type": "code",
   "execution_count": 3,
   "metadata": {},
   "outputs": [],
   "source": [
    "algo_name = 'cnn'\n",
    "feature_name = 'glove-lrs'\n",
    "model_name = f'{algo_name}_{feature_name}'\n",
    "\n",
    "feature_file = feature_dir / f'{feature_name}.csv'\n",
    "p_val_file = val_dir / f'{model_name}.val.csv'\n",
    "p_tst_file = tst_dir / f'{model_name}.tst.csv'\n",
    "sub_file = sub_dir / f'{model_name}.csv'"
   ]
  },
  {
   "cell_type": "code",
   "execution_count": 4,
   "metadata": {},
   "outputs": [
    {
     "name": "stdout",
     "output_type": "stream",
     "text": [
      "Found 400001 word vectors.\n"
     ]
    }
   ],
   "source": [
    "embeddings_index = {}\n",
    "with open(glove_file, encoding = 'UTF8') as f:\n",
    "    for line in f:\n",
    "        word, coefs = line.split(maxsplit=1)\n",
    "        coefs = np.fromstring(coefs, \"f\", sep=\" \")\n",
    "        embeddings_index[word] = coefs\n",
    "        \n",
    "print(f'Found {len(embeddings_index)} word vectors.')"
   ]
  },
  {
   "cell_type": "markdown",
   "metadata": {},
   "source": [
    "<h2> 학습데이터 로드"
   ]
  },
  {
   "cell_type": "code",
   "execution_count": 5,
   "metadata": {},
   "outputs": [
    {
     "data": {
      "text/html": [
       "<div>\n",
       "<style scoped>\n",
       "    .dataframe tbody tr th:only-of-type {\n",
       "        vertical-align: middle;\n",
       "    }\n",
       "\n",
       "    .dataframe tbody tr th {\n",
       "        vertical-align: top;\n",
       "    }\n",
       "\n",
       "    .dataframe thead th {\n",
       "        text-align: right;\n",
       "    }\n",
       "</style>\n",
       "<table border=\"1\" class=\"dataframe\">\n",
       "  <thead>\n",
       "    <tr style=\"text-align: right;\">\n",
       "      <th></th>\n",
       "      <th>text</th>\n",
       "      <th>author</th>\n",
       "      <th>length</th>\n",
       "    </tr>\n",
       "    <tr>\n",
       "      <th>index</th>\n",
       "      <th></th>\n",
       "      <th></th>\n",
       "      <th></th>\n",
       "    </tr>\n",
       "  </thead>\n",
       "  <tbody>\n",
       "    <tr>\n",
       "      <th>0</th>\n",
       "      <td>He was almost choking. There was so much so mu...</td>\n",
       "      <td>3</td>\n",
       "      <td>235</td>\n",
       "    </tr>\n",
       "    <tr>\n",
       "      <th>1</th>\n",
       "      <td>Your sister asked for it I suppose</td>\n",
       "      <td>2</td>\n",
       "      <td>34</td>\n",
       "    </tr>\n",
       "    <tr>\n",
       "      <th>2</th>\n",
       "      <td>She was engaged one day as she walked in peru...</td>\n",
       "      <td>1</td>\n",
       "      <td>312</td>\n",
       "    </tr>\n",
       "    <tr>\n",
       "      <th>3</th>\n",
       "      <td>The captain was in the porch keeping himself c...</td>\n",
       "      <td>4</td>\n",
       "      <td>305</td>\n",
       "    </tr>\n",
       "    <tr>\n",
       "      <th>4</th>\n",
       "      <td>Have mercy gentlemen odin flung up his hands. ...</td>\n",
       "      <td>3</td>\n",
       "      <td>215</td>\n",
       "    </tr>\n",
       "  </tbody>\n",
       "</table>\n",
       "</div>"
      ],
      "text/plain": [
       "                                                    text  author  length\n",
       "index                                                                   \n",
       "0      He was almost choking. There was so much so mu...       3     235\n",
       "1                     Your sister asked for it I suppose       2      34\n",
       "2       She was engaged one day as she walked in peru...       1     312\n",
       "3      The captain was in the porch keeping himself c...       4     305\n",
       "4      Have mercy gentlemen odin flung up his hands. ...       3     215"
      ]
     },
     "execution_count": 5,
     "metadata": {},
     "output_type": "execute_result"
    }
   ],
   "source": [
    "train = pd.read_csv(trn_file, index_col=0)\n",
    "train.head()"
   ]
  },
  {
   "cell_type": "code",
   "execution_count": 6,
   "metadata": {},
   "outputs": [
    {
     "data": {
      "text/html": [
       "<div>\n",
       "<style scoped>\n",
       "    .dataframe tbody tr th:only-of-type {\n",
       "        vertical-align: middle;\n",
       "    }\n",
       "\n",
       "    .dataframe tbody tr th {\n",
       "        vertical-align: top;\n",
       "    }\n",
       "\n",
       "    .dataframe thead th {\n",
       "        text-align: right;\n",
       "    }\n",
       "</style>\n",
       "<table border=\"1\" class=\"dataframe\">\n",
       "  <thead>\n",
       "    <tr style=\"text-align: right;\">\n",
       "      <th></th>\n",
       "      <th>text</th>\n",
       "    </tr>\n",
       "    <tr>\n",
       "      <th>index</th>\n",
       "      <th></th>\n",
       "    </tr>\n",
       "  </thead>\n",
       "  <tbody>\n",
       "    <tr>\n",
       "      <th>0</th>\n",
       "      <td>“Not at all. I think she is one of the most ch...</td>\n",
       "    </tr>\n",
       "    <tr>\n",
       "      <th>1</th>\n",
       "      <td>\"No,\" replied he, with sudden consciousness, \"...</td>\n",
       "    </tr>\n",
       "    <tr>\n",
       "      <th>2</th>\n",
       "      <td>As the lady had stated her intention of scream...</td>\n",
       "    </tr>\n",
       "    <tr>\n",
       "      <th>3</th>\n",
       "      <td>“And then suddenly in the silence I heard a so...</td>\n",
       "    </tr>\n",
       "    <tr>\n",
       "      <th>4</th>\n",
       "      <td>His conviction remained unchanged. So far as I...</td>\n",
       "    </tr>\n",
       "  </tbody>\n",
       "</table>\n",
       "</div>"
      ],
      "text/plain": [
       "                                                    text\n",
       "index                                                   \n",
       "0      “Not at all. I think she is one of the most ch...\n",
       "1      \"No,\" replied he, with sudden consciousness, \"...\n",
       "2      As the lady had stated her intention of scream...\n",
       "3      “And then suddenly in the silence I heard a so...\n",
       "4      His conviction remained unchanged. So far as I..."
      ]
     },
     "execution_count": 6,
     "metadata": {},
     "output_type": "execute_result"
    }
   ],
   "source": [
    "test = pd.read_csv(tst_file, index_col=0)\n",
    "test.head()"
   ]
  },
  {
   "cell_type": "markdown",
   "metadata": {},
   "source": [
    "<h2> Preprocessing"
   ]
  },
  {
   "cell_type": "code",
   "execution_count": 7,
   "metadata": {},
   "outputs": [],
   "source": [
    "def alpha_num(text):\n",
    "    return re.sub(r'[^A-Za-z0-9 ]', '', text)\n",
    "\n",
    "\n",
    "def remove_stopwords(text):\n",
    "    final_text = []\n",
    "    for i in text.split():\n",
    "        if i.strip().lower() not in stopwords:\n",
    "            final_text.append(i.strip())\n",
    "    return \" \".join(final_text)\n",
    "\n",
    "\n",
    "stopwords = [ \"a\", \"about\", \"above\", \"after\", \"again\", \"against\", \"all\", \"am\", \"an\", \"and\", \"any\", \"are\", \"as\", \"odin\",\n",
    "             \"at\", \"be\", \"because\", \"been\", \"before\", \"being\", \"below\", \"between\", \"both\", \"but\", \"by\", \"could\", \n",
    "             \"did\", \"do\", \"does\", \"doing\", \"down\", \"during\", \"each\", \"few\", \"for\", \"from\", \"further\", \"had\", \"has\", \n",
    "             \"have\", \"having\", \"he\", \"he'd\", \"he'll\", \"he's\", \"her\", \"here\", \"here's\", \"hers\", \"herself\", \"him\", \"himself\", \n",
    "             \"his\", \"how\", \"how's\", \"i\", \"i'd\", \"i'll\", \"i'm\", \"i've\", \"if\", \"in\", \"into\", \"is\", \"it\", \"it's\", \"its\", \"itself\", \n",
    "             \"let's\", \"me\", \"more\", \"most\", \"my\", \"myself\", \"nor\", \"of\", \"on\", \"once\", \"only\", \"or\", \"other\", \"ought\", \"our\", \"ours\", \n",
    "             \"ourselves\", \"out\", \"over\", \"own\", \"same\", \"she\", \"she'd\", \"she'll\", \"she's\", \"should\", \"so\", \"some\", \"such\", \"than\", \"that\", \n",
    "             \"that's\", \"the\", \"their\", \"theirs\", \"them\", \"themselves\", \"then\", \"there\", \"there's\", \"these\", \"they\", \"they'd\", \"they'll\", \n",
    "             \"they're\", \"they've\", \"this\", \"those\", \"through\", \"to\", \"too\", \"under\", \"until\", \"up\", \"very\", \"was\", \"we\", \"we'd\", \"we'll\", \n",
    "             \"we're\", \"we've\", \"were\", \"what\", \"what's\", \"when\", \"when's\", \"where\", \"where's\", \"which\", \"while\", \"who\", \"who's\", \"whom\", \n",
    "             \"why\", \"why's\", \"with\", \"would\", \"you\", \"you'd\", \"you'll\", \"you're\", \"you've\", \"your\", \"yours\", \"yourself\", \"yourselves\" ]"
   ]
  },
  {
   "cell_type": "code",
   "execution_count": 8,
   "metadata": {},
   "outputs": [],
   "source": [
    "train['text'] = train['text'].str.lower().apply(alpha_num).apply(remove_stopwords)\n",
    "test['text'] = test['text'].str.lower().apply(alpha_num).apply(remove_stopwords)"
   ]
  },
  {
   "cell_type": "code",
   "execution_count": 9,
   "metadata": {},
   "outputs": [],
   "source": [
    "train['length'] = train['text'].apply(len)"
   ]
  },
  {
   "cell_type": "code",
   "execution_count": 10,
   "metadata": {},
   "outputs": [
    {
     "data": {
      "text/html": [
       "<div>\n",
       "<style scoped>\n",
       "    .dataframe tbody tr th:only-of-type {\n",
       "        vertical-align: middle;\n",
       "    }\n",
       "\n",
       "    .dataframe tbody tr th {\n",
       "        vertical-align: top;\n",
       "    }\n",
       "\n",
       "    .dataframe thead th {\n",
       "        text-align: right;\n",
       "    }\n",
       "</style>\n",
       "<table border=\"1\" class=\"dataframe\">\n",
       "  <thead>\n",
       "    <tr style=\"text-align: right;\">\n",
       "      <th></th>\n",
       "      <th>index</th>\n",
       "      <th>author</th>\n",
       "      <th>length</th>\n",
       "    </tr>\n",
       "  </thead>\n",
       "  <tbody>\n",
       "    <tr>\n",
       "      <th>count</th>\n",
       "      <td>166641.000000</td>\n",
       "      <td>166641.000000</td>\n",
       "      <td>166641.000000</td>\n",
       "    </tr>\n",
       "    <tr>\n",
       "      <th>mean</th>\n",
       "      <td>92005.666649</td>\n",
       "      <td>2.045913</td>\n",
       "      <td>104.692315</td>\n",
       "    </tr>\n",
       "    <tr>\n",
       "      <th>std</th>\n",
       "      <td>52938.589914</td>\n",
       "      <td>1.293911</td>\n",
       "      <td>109.353860</td>\n",
       "    </tr>\n",
       "    <tr>\n",
       "      <th>min</th>\n",
       "      <td>0.000000</td>\n",
       "      <td>0.000000</td>\n",
       "      <td>20.000000</td>\n",
       "    </tr>\n",
       "    <tr>\n",
       "      <th>25%</th>\n",
       "      <td>46306.000000</td>\n",
       "      <td>1.000000</td>\n",
       "      <td>44.000000</td>\n",
       "    </tr>\n",
       "    <tr>\n",
       "      <th>50%</th>\n",
       "      <td>92135.000000</td>\n",
       "      <td>2.000000</td>\n",
       "      <td>72.000000</td>\n",
       "    </tr>\n",
       "    <tr>\n",
       "      <th>75%</th>\n",
       "      <td>137863.000000</td>\n",
       "      <td>3.000000</td>\n",
       "      <td>119.000000</td>\n",
       "    </tr>\n",
       "    <tr>\n",
       "      <th>max</th>\n",
       "      <td>183467.000000</td>\n",
       "      <td>4.000000</td>\n",
       "      <td>1387.000000</td>\n",
       "    </tr>\n",
       "  </tbody>\n",
       "</table>\n",
       "</div>"
      ],
      "text/plain": [
       "               index         author         length\n",
       "count  166641.000000  166641.000000  166641.000000\n",
       "mean    92005.666649       2.045913     104.692315\n",
       "std     52938.589914       1.293911     109.353860\n",
       "min         0.000000       0.000000      20.000000\n",
       "25%     46306.000000       1.000000      44.000000\n",
       "50%     92135.000000       2.000000      72.000000\n",
       "75%    137863.000000       3.000000     119.000000\n",
       "max    183467.000000       4.000000    1387.000000"
      ]
     },
     "execution_count": 10,
     "metadata": {},
     "output_type": "execute_result"
    }
   ],
   "source": [
    "idx_under_20 = train[train['length'] < 20].index\n",
    "train = train.drop(idx_under_20)\n",
    "train = train.reset_index()\n",
    "train.describe()"
   ]
  },
  {
   "cell_type": "code",
   "execution_count": 11,
   "metadata": {},
   "outputs": [
    {
     "data": {
      "text/plain": [
       "<matplotlib.axes._subplots.AxesSubplot at 0x1b43cea8c10>"
      ]
     },
     "execution_count": 11,
     "metadata": {},
     "output_type": "execute_result"
    },
    {
     "data": {
      "image/png": "[encoded data removed]",
      "text/plain": [
       "<Figure size 432x288 with 1 Axes>"
      ]
     },
     "metadata": {
      "image/png": {
       "height": 274,
       "width": 388
      },
      "needs_background": "light"
     },
     "output_type": "display_data"
    }
   ],
   "source": [
    "train.groupby(train.author).size().reset_index(name=\"counts\").plot.bar(x='author',title=\"Samples per each class (Training set)\",color='red')\n"
   ]
  },
  {
   "cell_type": "code",
   "execution_count": 12,
   "metadata": {},
   "outputs": [
    {
     "data": {
      "text/plain": [
       "0         False\n",
       "1         False\n",
       "2         False\n",
       "3         False\n",
       "4         False\n",
       "          ...  \n",
       "166636     True\n",
       "166637     True\n",
       "166638     True\n",
       "166639     True\n",
       "166640     True\n",
       "Name: text, Length: 166641, dtype: bool"
      ]
     },
     "execution_count": 12,
     "metadata": {},
     "output_type": "execute_result"
    }
   ],
   "source": [
    "train['length']= train['text'].apply(len)\n",
    "train['text'].duplicated()"
   ]
  },
  {
   "cell_type": "code",
   "execution_count": 13,
   "metadata": {},
   "outputs": [
    {
     "data": {
      "text/plain": [
       "<matplotlib.axes._subplots.AxesSubplot at 0x1b43c9a0760>"
      ]
     },
     "execution_count": 13,
     "metadata": {},
     "output_type": "execute_result"
    },
    {
     "data": {
      "image/png": "[encoded data removed]",
      "text/plain": [
       "<Figure size 432x288 with 1 Axes>"
      ]
     },
     "metadata": {
      "image/png": {
       "height": 274,
       "width": 388
      },
      "needs_background": "light"
     },
     "output_type": "display_data"
    }
   ],
   "source": [
    "df = train.drop_duplicates(['text'])\n",
    "df.groupby(df.author).size().reset_index(name=\"counts\").plot.bar(x='author',title=\"Samples per each class (Training set)\",color='red')\n"
   ]
  },
  {
   "cell_type": "code",
   "execution_count": 14,
   "metadata": {},
   "outputs": [],
   "source": [
    "df = df.reset_index()"
   ]
  },
  {
   "cell_type": "code",
   "execution_count": 15,
   "metadata": {},
   "outputs": [],
   "source": [
    "df[df['length']>500].describe()\n",
    "df=df.drop(columns='level_0')"
   ]
  },
  {
   "cell_type": "code",
   "execution_count": 16,
   "metadata": {},
   "outputs": [],
   "source": [
    "df['index'] = df['index'].reset_index()"
   ]
  },
  {
   "cell_type": "code",
   "execution_count": 17,
   "metadata": {
    "scrolled": true
   },
   "outputs": [
    {
     "data": {
      "text/html": [
       "<div>\n",
       "<style scoped>\n",
       "    .dataframe tbody tr th:only-of-type {\n",
       "        vertical-align: middle;\n",
       "    }\n",
       "\n",
       "    .dataframe tbody tr th {\n",
       "        vertical-align: top;\n",
       "    }\n",
       "\n",
       "    .dataframe thead th {\n",
       "        text-align: right;\n",
       "    }\n",
       "</style>\n",
       "<table border=\"1\" class=\"dataframe\">\n",
       "  <thead>\n",
       "    <tr style=\"text-align: right;\">\n",
       "      <th></th>\n",
       "      <th>index</th>\n",
       "      <th>text</th>\n",
       "      <th>author</th>\n",
       "      <th>length</th>\n",
       "    </tr>\n",
       "  </thead>\n",
       "  <tbody>\n",
       "    <tr>\n",
       "      <th>0</th>\n",
       "      <td>0</td>\n",
       "      <td>almost choking much much wanted say strange ex...</td>\n",
       "      <td>3</td>\n",
       "      <td>129</td>\n",
       "    </tr>\n",
       "    <tr>\n",
       "      <th>1</th>\n",
       "      <td>1</td>\n",
       "      <td>sister asked suppose</td>\n",
       "      <td>2</td>\n",
       "      <td>20</td>\n",
       "    </tr>\n",
       "    <tr>\n",
       "      <th>2</th>\n",
       "      <td>2</td>\n",
       "      <td>engaged one day walked perusing janes last let...</td>\n",
       "      <td>1</td>\n",
       "      <td>191</td>\n",
       "    </tr>\n",
       "    <tr>\n",
       "      <th>3</th>\n",
       "      <td>3</td>\n",
       "      <td>captain porch keeping carefully way treacherou...</td>\n",
       "      <td>4</td>\n",
       "      <td>188</td>\n",
       "    </tr>\n",
       "    <tr>\n",
       "      <th>4</th>\n",
       "      <td>4</td>\n",
       "      <td>mercy gentlemen flung hands dont write anyway ...</td>\n",
       "      <td>3</td>\n",
       "      <td>123</td>\n",
       "    </tr>\n",
       "    <tr>\n",
       "      <th>...</th>\n",
       "      <td>...</td>\n",
       "      <td>...</td>\n",
       "      <td>...</td>\n",
       "      <td>...</td>\n",
       "    </tr>\n",
       "    <tr>\n",
       "      <th>87283</th>\n",
       "      <td>87283</td>\n",
       "      <td>though liberally provided friend funds sent be...</td>\n",
       "      <td>3</td>\n",
       "      <td>306</td>\n",
       "    </tr>\n",
       "    <tr>\n",
       "      <th>87284</th>\n",
       "      <td>87284</td>\n",
       "      <td>diningroom soon joined busily engaged separate...</td>\n",
       "      <td>1</td>\n",
       "      <td>73</td>\n",
       "    </tr>\n",
       "    <tr>\n",
       "      <th>87285</th>\n",
       "      <td>87285</td>\n",
       "      <td>one came books toilette</td>\n",
       "      <td>1</td>\n",
       "      <td>23</td>\n",
       "    </tr>\n",
       "    <tr>\n",
       "      <th>87286</th>\n",
       "      <td>87286</td>\n",
       "      <td>faces however tolerably calm no change visible...</td>\n",
       "      <td>1</td>\n",
       "      <td>138</td>\n",
       "    </tr>\n",
       "    <tr>\n",
       "      <th>87287</th>\n",
       "      <td>87287</td>\n",
       "      <td>mistress enough whisper countenance grave refl...</td>\n",
       "      <td>1</td>\n",
       "      <td>70</td>\n",
       "    </tr>\n",
       "  </tbody>\n",
       "</table>\n",
       "<p>87288 rows × 4 columns</p>\n",
       "</div>"
      ],
      "text/plain": [
       "       index                                               text  author  \\\n",
       "0          0  almost choking much much wanted say strange ex...       3   \n",
       "1          1                               sister asked suppose       2   \n",
       "2          2  engaged one day walked perusing janes last let...       1   \n",
       "3          3  captain porch keeping carefully way treacherou...       4   \n",
       "4          4  mercy gentlemen flung hands dont write anyway ...       3   \n",
       "...      ...                                                ...     ...   \n",
       "87283  87283  though liberally provided friend funds sent be...       3   \n",
       "87284  87284  diningroom soon joined busily engaged separate...       1   \n",
       "87285  87285                            one came books toilette       1   \n",
       "87286  87286  faces however tolerably calm no change visible...       1   \n",
       "87287  87287  mistress enough whisper countenance grave refl...       1   \n",
       "\n",
       "       length  \n",
       "0         129  \n",
       "1          20  \n",
       "2         191  \n",
       "3         188  \n",
       "4         123  \n",
       "...       ...  \n",
       "87283     306  \n",
       "87284      73  \n",
       "87285      23  \n",
       "87286     138  \n",
       "87287      70  \n",
       "\n",
       "[87288 rows x 4 columns]"
      ]
     },
     "execution_count": 17,
     "metadata": {},
     "output_type": "execute_result"
    }
   ],
   "source": [
    "df"
   ]
  },
  {
   "cell_type": "markdown",
   "metadata": {},
   "source": [
    "<h2> Data Augemtation"
   ]
  },
  {
   "cell_type": "code",
   "execution_count": null,
   "metadata": {},
   "outputs": [],
   "source": []
  },
  {
   "cell_type": "code",
   "execution_count": null,
   "metadata": {},
   "outputs": [],
   "source": []
  },
  {
   "cell_type": "code",
   "execution_count": null,
   "metadata": {},
   "outputs": [],
   "source": []
  },
  {
   "cell_type": "code",
   "execution_count": null,
   "metadata": {},
   "outputs": [],
   "source": []
  },
  {
   "cell_type": "code",
   "execution_count": 18,
   "metadata": {},
   "outputs": [],
   "source": [
    "train=df"
   ]
  },
  {
   "cell_type": "code",
   "execution_count": 19,
   "metadata": {},
   "outputs": [
    {
     "name": "stdout",
     "output_type": "stream",
     "text": [
      "(87288,) (19617,) (87288,)\n"
     ]
    }
   ],
   "source": [
    "trn = train['text'].values\n",
    "tst = test['text'].values\n",
    "y = train['author'].values\n",
    "print(trn.shape, tst.shape, y.shape)"
   ]
  },
  {
   "cell_type": "code",
   "execution_count": 20,
   "metadata": {},
   "outputs": [],
   "source": [
    "from sklearn.model_selection import train_test_split\n",
    "SEED = 200\n",
    "X_trn, X_val, y_trn, y_val = train_test_split(train.text, train.author, test_size=0.2, random_state=3,stratify= train.author)"
   ]
  },
  {
   "cell_type": "code",
   "execution_count": 21,
   "metadata": {},
   "outputs": [],
   "source": [
    "from keras.preprocessing.text import Tokenizer\n",
    "tokenizer = Tokenizer(num_words=500000)\n",
    "tokenizer.fit_on_texts(trn)\n",
    "sequences_train = tokenizer.texts_to_sequences(trn)\n",
    "sequences_test = tokenizer.texts_to_sequences(tst)\n",
    "sequences_validation = tokenizer.texts_to_sequences(X_val)"
   ]
  },
  {
   "cell_type": "code",
   "execution_count": null,
   "metadata": {},
   "outputs": [],
   "source": []
  },
  {
   "cell_type": "code",
   "execution_count": 22,
   "metadata": {},
   "outputs": [
    {
     "name": "stdout",
     "output_type": "stream",
     "text": [
      "Train set shape: (87288, 500)\n",
      "Validation set shape: (17458, 500)\n",
      "Test set shape: (19617, 500)\n"
     ]
    }
   ],
   "source": [
    "max_length = 500\n",
    "from keras.preprocessing import sequence\n",
    "x_train=sequence.pad_sequences(sequences_train,maxlen=max_length)\n",
    "x_validation=sequence.pad_sequences(sequences_validation,maxlen=max_length)\n",
    "tst=sequence.pad_sequences(sequences_test,maxlen=max_length)\n",
    "\n",
    "print(f\"Train set shape: {x_train.shape}\\nValidation set shape: {x_validation.shape}\\nTest set shape: {tst.shape}\")"
   ]
  },
  {
   "cell_type": "code",
   "execution_count": 23,
   "metadata": {},
   "outputs": [],
   "source": [
    "from sklearn.preprocessing import LabelBinarizer\n",
    "encoder = LabelBinarizer()\n",
    "y_train_categorical=encoder.fit_transform(y_trn.values.reshape(-1, 1))\n",
    "y_validation_categorical=encoder.transform(train['author'].values.reshape(-1, 1))"
   ]
  },
  {
   "cell_type": "code",
   "execution_count": 24,
   "metadata": {},
   "outputs": [
    {
     "name": "stdout",
     "output_type": "stream",
     "text": [
      "Train set labels: 69830\n",
      "Validation set labels: 87288\n"
     ]
    }
   ],
   "source": [
    "print(f\"Train set labels: {y_train_categorical.__len__()}\\nValidation set labels: {y_validation_categorical.__len__()}\")\n"
   ]
  },
  {
   "cell_type": "markdown",
   "metadata": {},
   "source": [
    "<h2> Glove 임베딩 "
   ]
  },
  {
   "cell_type": "code",
   "execution_count": 25,
   "metadata": {},
   "outputs": [],
   "source": [
    "glove_file = './dataset/glove.6B/glove.6B.100d.txt'\n"
   ]
  },
  {
   "cell_type": "code",
   "execution_count": 26,
   "metadata": {},
   "outputs": [
    {
     "name": "stdout",
     "output_type": "stream",
     "text": [
      "Found 400001 word vectors.\n"
     ]
    }
   ],
   "source": [
    "embeddings_index = {}\n",
    "with open(glove_file, encoding = 'UTF8') as f:\n",
    "    for line in f:\n",
    "        word, coefs = line.split(maxsplit=1)\n",
    "        coefs = np.fromstring(coefs, \"f\", sep=\" \")\n",
    "        embeddings_index[word] = coefs\n",
    "        \n",
    "print(f'Found {len(embeddings_index)} word vectors.')"
   ]
  },
  {
   "cell_type": "code",
   "execution_count": 27,
   "metadata": {},
   "outputs": [],
   "source": [
    "word_index = tokenizer.word_index\n",
    "max_words = tokenizer.num_words"
   ]
  },
  {
   "cell_type": "code",
   "execution_count": 28,
   "metadata": {},
   "outputs": [
    {
     "data": {
      "text/plain": [
       "500000"
      ]
     },
     "execution_count": 28,
     "metadata": {},
     "output_type": "execute_result"
    }
   ],
   "source": [
    "max_words"
   ]
  },
  {
   "cell_type": "code",
   "execution_count": 29,
   "metadata": {},
   "outputs": [],
   "source": [
    "embedding_dim=100\n",
    "embedding_matrix = np.zeros((max_words, embedding_dim))\n",
    "\n",
    "for word, i in word_index.items():\n",
    "    if i< max_words:\n",
    "        embedding_vector = embeddings_index.get(word)\n",
    "        if embedding_vector is not None :\n",
    "            embedding_matrix[i] = embedding_vector# 임베딩 인덱스에 없는 단어는 모두 0이 됨."
   ]
  },
  {
   "cell_type": "markdown",
   "metadata": {},
   "source": [
    "<h2> CNN 하이퍼 파라미터"
   ]
  },
  {
   "cell_type": "code",
   "execution_count": 50,
   "metadata": {},
   "outputs": [],
   "source": [
    "from hyperopt import Trials, STATUS_OK, tpe, fmin, hp\n",
    "from sklearn.model_selection import train_test_split\n",
    "import tensorflow as tf"
   ]
  },
  {
   "cell_type": "code",
   "execution_count": 31,
   "metadata": {},
   "outputs": [],
   "source": [
    "def data(batch_size, time_steps, trn, y):\n",
    "    \"\"\"\n",
    "    function that returns data to be fed into objective function and model is trained on it subsequently.\n",
    "    \"\"\"\n",
    "    BATCH_SIZE = batch_size\n",
    "    TIME_STEPS = time_steps\n",
    "    X_trn, X_val, y_trn, y_val = train_test_split(X, y, test_size=.2, random_state=seed)\n",
    "    return  X_trn, X_val, y_trn, y_val"
   ]
  },
  {
   "cell_type": "code",
   "execution_count": 32,
   "metadata": {},
   "outputs": [],
   "source": [
    "search_space = {\n",
    "    #'batch_size': hp.choice('bs', [30,40,50,60,70]),\n",
    "    #'time_steps': hp.choice('ts', [30,50,60,80,90]),\n",
    "    'embedding_dim' : 100,\n",
    "    'embedding_matrix' : embedding_matrix,\n",
    "    'cnn1_nodes': hp.choice('units_lsmt1', [32,64,80]),\n",
    "    'cnn1_dropouts': hp.uniform('dos_lstm1',0,0.5),\n",
    "    \n",
    "    'dense_layers': hp.choice('num_layers_dense',[\n",
    "        {\n",
    "            'layers':'one'\n",
    "        },\n",
    "        {\n",
    "            'layers':'two',\n",
    "            'dense2_nodes': hp.choice('units_dense', [10,16,32,40])\n",
    "        }\n",
    "        ]),\n",
    "    \"lr\": hp.loguniform('lr',np.log(0.01), np.log(0.1)),\n",
    "    \"epochs\": 30,\n",
    "    \"optimizer\": \"Adam\"\n",
    "}"
   ]
  },
  {
   "cell_type": "code",
   "execution_count": null,
   "metadata": {},
   "outputs": [],
   "source": []
  },
  {
   "cell_type": "code",
   "execution_count": null,
   "metadata": {},
   "outputs": [],
   "source": []
  },
  {
   "cell_type": "markdown",
   "metadata": {},
   "source": [
    "<h2> 모델"
   ]
  },
  {
   "cell_type": "code",
   "execution_count": 33,
   "metadata": {},
   "outputs": [],
   "source": [
    "from keras.layers import *\n",
    "from keras import regularizers\n",
    "from keras import Sequential,optimizers\n",
    "from keras_sequential_ascii import keras2ascii\n",
    "\n",
    "class CNNtext(Sequential):\n",
    "    \"\"\"\n",
    "    This class extends  keras.sequencial in order to build our \n",
    "    model according to the designed architecture\n",
    "    \"\"\"\n",
    "    #params for the convolutional layers\n",
    "    __num_filters = 64\n",
    "    __weight_decay = 1e-4\n",
    "    #optimizers\n",
    "    __adam = optimizers.Adam(lr=0.001, beta_1=0.9, beta_2=0.999, epsilon=1e-08, decay=0.0)\n",
    "    def __init__(self,max_length,number_of_classes,embedding_matrix=None,vocab_size=None,tokenizer=None):\n",
    "        #creating the model heritance from Keras.sequencial\n",
    "        super().__init__()\n",
    "        #params for the embedding layer\n",
    "        self.__embedding_dim=100 if embedding_matrix is None else embedding_matrix.shape[1]\n",
    "        #self.__vocab_size=vocab_size if tokenizer is None else tokenizer.word_index.__len__()+1\n",
    "        self.__vocab_size=vocab_size if tokenizer is None else max(tokenizer.index_word.keys())+1\n",
    "        try:\n",
    "            self.__max_length=max_length\n",
    "            self.__number_of_classes=number_of_classes \n",
    "        except NameError as error:\n",
    "            print(\"Error \",error,\" must be defined.\")\n",
    "            \n",
    "        #defining layers\n",
    "        #This layer will learn an embedding the vocab_size is the vocabulary learn from our tokenizer\n",
    "        #the embedding dimension is defined by our selfs in this case we choose a dimension of 100\n",
    "        #the input length is the maximum length of the documents we will use\n",
    "        if embedding_matrix is None:\n",
    "            self.add(Embedding(self.__vocab_size,\n",
    "                               self.__embedding_dim,\n",
    "                               input_length=self.__max_length,trainable=True))\n",
    "        else:\n",
    "            self.add(Embedding(embedding_matrix.shape[0],\n",
    "                               embedding_matrix.shape[1],\n",
    "                               weights=[embedding_matrix],\n",
    "                               input_length=self.__max_length,\n",
    "                               trainable=False))\n",
    "        #then we apply a 1D conv layer that should apply filters to the sequence and generate features maps.\n",
    "        self.add(Conv1D(self.__num_filters, 7, activation='relu', padding='same'))\n",
    "        #then we will get the most important features using a max pooling layer\n",
    "        self.add(MaxPooling1D(2))\n",
    "        #afterwards we apply a conv 1D layer to learn new features form the previous results\n",
    "        self.add(Conv1D(self.__num_filters, 7, activation='relu', padding='same'))\n",
    "        #we select again the most important features\n",
    "        self.add(GlobalMaxPooling1D())\n",
    "        #then we apply dropout to improve the generalization\n",
    "        self.add(Dropout(0.5))\n",
    "        #then we will pass the results into a dense layer that will also learn some internal representation and we also use the l2 regularization\n",
    "        self.add(Dense(32, activation='relu', kernel_regularizer=regularizers.l2(self.__weight_decay)))\n",
    "        #for the final layer we will use softmax to obtain the probabilities of each class.\n",
    "        self.add(Dense(self.__number_of_classes, activation='softmax'))  \n",
    "        #to compute the loss function we use binary_crossentropy\n",
    "        #which is widely used for multi-classification problems\n",
    "        #we also use the adam optimazer to learn the parameters(weights)\n",
    "        #and minimize the loss function.\n",
    "        # 몰랐는데 binary_crossentropy가 multi-classification 에 좋다고 하는군요.\n",
    "        # binary_crossentropy는 반드시 binary-classification에만 써야 하는건줄 알았는데...\n",
    "        self.compile(loss='categorical_crossentropy', optimizer=self.__adam, metrics=['accuracy'])"
   ]
  },
  {
   "cell_type": "code",
   "execution_count": 53,
   "metadata": {},
   "outputs": [],
   "source": [
    "from keras.callbacks import EarlyStopping, LearningRateScheduler\n",
    "def scheduler(epoch, lr):\n",
    "    if epoch < 1:\n",
    "        return lr\n",
    "    else:\n",
    "        return lr * tf.math.exp(-0.1)\n",
    "es = EarlyStopping(monitor='val_loss', min_delta=0.01, patience=2, verbose=1)\n",
    "lrs = LearningRateScheduler(scheduler, verbose = 0)"
   ]
  },
  {
   "cell_type": "code",
   "execution_count": 51,
   "metadata": {},
   "outputs": [
    {
     "data": {
      "text/plain": [
       "<tf.Tensor: shape=(), dtype=float32, numpy=0.9048374>"
      ]
     },
     "execution_count": 51,
     "metadata": {},
     "output_type": "execute_result"
    }
   ],
   "source": [
    "tf.math.exp(-0.1)"
   ]
  },
  {
   "cell_type": "code",
   "execution_count": 36,
   "metadata": {},
   "outputs": [],
   "source": [
    "#training params\n",
    "batch_size = 64\n",
    "num_epochs = 10"
   ]
  },
  {
   "cell_type": "code",
   "execution_count": 37,
   "metadata": {},
   "outputs": [
    {
     "data": {
      "text/plain": [
       "500000"
      ]
     },
     "execution_count": 37,
     "metadata": {},
     "output_type": "execute_result"
    }
   ],
   "source": [
    "tokenizer.num_words"
   ]
  },
  {
   "cell_type": "code",
   "execution_count": 38,
   "metadata": {},
   "outputs": [],
   "source": [
    "max_length=500"
   ]
  },
  {
   "cell_type": "code",
   "execution_count": 39,
   "metadata": {},
   "outputs": [],
   "source": [
    "CNN_BOW=CNNtext(max_length,\n",
    "              encoder.classes_.__len__(),\n",
    "              tokenizer=tokenizer)"
   ]
  },
  {
   "cell_type": "code",
   "execution_count": 40,
   "metadata": {},
   "outputs": [
    {
     "name": "stdout",
     "output_type": "stream",
     "text": [
      "           OPERATION           DATA DIMENSIONS   WEIGHTS(N)   WEIGHTS(%)\n",
      "\n",
      "               Input   #####         500\n",
      "           Embedding   emb | -------------------   4707400    98.4%\n",
      "                       #####    500  100\n",
      "              Conv1D    \\|/  -------------------     44864     0.9%\n",
      "                relu   #####    500   64\n",
      "        MaxPooling1D   Y max -------------------         0     0.0%\n",
      "                       #####    250   64\n",
      "              Conv1D    \\|/  -------------------     28736     0.6%\n",
      "                relu   #####    250   64\n",
      "  GlobalMaxPooling1D   Y^max -------------------         0     0.0%\n",
      "                       #####          64\n",
      "             Dropout    | || -------------------         0     0.0%\n",
      "                       #####          64\n",
      "               Dense   XXXXX -------------------      2080     0.0%\n",
      "                relu   #####          32\n",
      "               Dense   XXXXX -------------------       165     0.0%\n",
      "             softmax   #####           5\n"
     ]
    }
   ],
   "source": [
    "keras2ascii(CNN_BOW)\n"
   ]
  },
  {
   "cell_type": "code",
   "execution_count": null,
   "metadata": {},
   "outputs": [],
   "source": []
  },
  {
   "cell_type": "code",
   "execution_count": 41,
   "metadata": {
    "scrolled": true
   },
   "outputs": [
    {
     "data": {
      "text/plain": [
       "((87288, 500), (69830, 5), (17458, 500), (87288, 5))"
      ]
     },
     "execution_count": 41,
     "metadata": {},
     "output_type": "execute_result"
    }
   ],
   "source": [
    "x_train.shape, y_train_categorical.shape, x_validation.shape, y_validation_categorical.shape"
   ]
  },
  {
   "cell_type": "code",
   "execution_count": 42,
   "metadata": {},
   "outputs": [],
   "source": [
    "n_fold = 5\n",
    "n_class = 5\n",
    "seed = 777"
   ]
  },
  {
   "cell_type": "code",
   "execution_count": 43,
   "metadata": {},
   "outputs": [],
   "source": [
    "cv = StratifiedKFold(n_splits=n_fold, shuffle=True, random_state=seed)"
   ]
  },
  {
   "cell_type": "code",
   "execution_count": 44,
   "metadata": {},
   "outputs": [
    {
     "data": {
      "text/plain": [
       "((87288, 500), (87288,))"
      ]
     },
     "execution_count": 44,
     "metadata": {},
     "output_type": "execute_result"
    }
   ],
   "source": [
    "x_train.shape, y.shape"
   ]
  },
  {
   "cell_type": "code",
   "execution_count": 45,
   "metadata": {},
   "outputs": [
    {
     "data": {
      "text/plain": [
       "(19617, 500)"
      ]
     },
     "execution_count": 45,
     "metadata": {},
     "output_type": "execute_result"
    }
   ],
   "source": [
    "tst.shape"
   ]
  },
  {
   "cell_type": "code",
   "execution_count": 46,
   "metadata": {},
   "outputs": [],
   "source": [
    "from tensorflow.keras.utils import plot_model, to_categorical"
   ]
  },
  {
   "cell_type": "code",
   "execution_count": 54,
   "metadata": {},
   "outputs": [
    {
     "name": "stdout",
     "output_type": "stream",
     "text": [
      "training model for CV #1\n",
      "Epoch 1/15\n",
      "2183/2183 [==============================] - 194s 89ms/step - loss: 1.0411 - accuracy: 0.5864 - val_loss: 0.7761 - val_accuracy: 0.7103\n",
      "Epoch 2/15\n",
      "2183/2183 [==============================] - 188s 86ms/step - loss: 0.6178 - accuracy: 0.7810 - val_loss: 0.7159 - val_accuracy: 0.7382\n",
      "Epoch 3/15\n",
      "2183/2183 [==============================] - 189s 86ms/step - loss: 0.4313 - accuracy: 0.8515 - val_loss: 0.7529 - val_accuracy: 0.7436\n",
      "Epoch 4/15\n",
      "2183/2183 [==============================] - 194s 89ms/step - loss: 0.2993 - accuracy: 0.9004 - val_loss: 0.8633 - val_accuracy: 0.7391\n",
      "Epoch 5/15\n",
      "2183/2183 [==============================] - ETA: 0s - loss: 0.1983 - accuracy: 0.9341Restoring model weights from the end of the best epoch.\n",
      "2183/2183 [==============================] - 192s 88ms/step - loss: 0.1983 - accuracy: 0.9341 - val_loss: 1.0008 - val_accuracy: 0.7366\n",
      "Epoch 00005: early stopping\n",
      "training model for CV #2\n",
      "Epoch 1/15\n",
      "2183/2183 [==============================] - 184s 84ms/step - loss: 1.0342 - accuracy: 0.5933 - val_loss: 0.7926 - val_accuracy: 0.7037\n",
      "Epoch 2/15\n",
      "2183/2183 [==============================] - 184s 84ms/step - loss: 0.6303 - accuracy: 0.7749 - val_loss: 0.7462 - val_accuracy: 0.7284\n",
      "Epoch 3/15\n",
      "2183/2183 [==============================] - 190s 87ms/step - loss: 0.4560 - accuracy: 0.8416 - val_loss: 0.7736 - val_accuracy: 0.7306\n",
      "Epoch 4/15\n",
      "2183/2183 [==============================] - 194s 89ms/step - loss: 0.3338 - accuracy: 0.8857 - val_loss: 0.8634 - val_accuracy: 0.7335\n",
      "Epoch 5/15\n",
      "2183/2183 [==============================] - ETA: 0s - loss: 0.2380 - accuracy: 0.9201Restoring model weights from the end of the best epoch.\n",
      "2183/2183 [==============================] - 195s 89ms/step - loss: 0.2380 - accuracy: 0.9201 - val_loss: 0.9613 - val_accuracy: 0.7343\n",
      "Epoch 00005: early stopping\n",
      "training model for CV #3\n",
      "Epoch 1/15\n",
      "2183/2183 [==============================] - 193s 88ms/step - loss: 1.1537 - accuracy: 0.5252 - val_loss: 0.8974 - val_accuracy: 0.6482\n",
      "Epoch 2/15\n",
      "2183/2183 [==============================] - 190s 87ms/step - loss: 0.7477 - accuracy: 0.7200 - val_loss: 0.7867 - val_accuracy: 0.7066\n",
      "Epoch 3/15\n",
      "2183/2183 [==============================] - 190s 87ms/step - loss: 0.5604 - accuracy: 0.8015 - val_loss: 0.7723 - val_accuracy: 0.7201\n",
      "Epoch 4/15\n",
      "2183/2183 [==============================] - 190s 87ms/step - loss: 0.4378 - accuracy: 0.8496 - val_loss: 0.8043 - val_accuracy: 0.7294\n",
      "Epoch 5/15\n",
      "2183/2183 [==============================] - 189s 87ms/step - loss: 0.3468 - accuracy: 0.8834 - val_loss: 0.8846 - val_accuracy: 0.7285\n",
      "Epoch 6/15\n",
      "2183/2183 [==============================] - ETA: 0s - loss: 0.2776 - accuracy: 0.9083Restoring model weights from the end of the best epoch.\n",
      "2183/2183 [==============================] - 187s 86ms/step - loss: 0.2776 - accuracy: 0.9083 - val_loss: 0.9571 - val_accuracy: 0.7291\n",
      "Epoch 00006: early stopping\n",
      "training model for CV #4\n",
      "Epoch 1/15\n",
      "2183/2183 [==============================] - 191s 87ms/step - loss: 1.1563 - accuracy: 0.5317 - val_loss: 0.8738 - val_accuracy: 0.6656\n",
      "Epoch 2/15\n",
      "2183/2183 [==============================] - 189s 87ms/step - loss: 0.7274 - accuracy: 0.7343 - val_loss: 0.7663 - val_accuracy: 0.7126\n",
      "Epoch 3/15\n",
      "2183/2183 [==============================] - 190s 87ms/step - loss: 0.5565 - accuracy: 0.8057 - val_loss: 0.7577 - val_accuracy: 0.7236\n",
      "Epoch 4/15\n",
      "2183/2183 [==============================] - 189s 87ms/step - loss: 0.4595 - accuracy: 0.8432 - val_loss: 0.7756 - val_accuracy: 0.7294\n",
      "Epoch 5/15\n",
      "2183/2183 [==============================] - 188s 86ms/step - loss: 0.3921 - accuracy: 0.8679 - val_loss: 0.8264 - val_accuracy: 0.7305\n",
      "Epoch 6/15\n",
      "2183/2183 [==============================] - ETA: 0s - loss: 0.3412 - accuracy: 0.8851Restoring model weights from the end of the best epoch.\n",
      "2183/2183 [==============================] - 197s 90ms/step - loss: 0.3412 - accuracy: 0.8851 - val_loss: 0.8746 - val_accuracy: 0.7325\n",
      "Epoch 00006: early stopping\n",
      "training model for CV #5\n",
      "Epoch 1/15\n",
      "2183/2183 [==============================] - 191s 88ms/step - loss: 1.3445 - accuracy: 0.4210 - val_loss: 1.1157 - val_accuracy: 0.5535\n",
      "Epoch 2/15\n",
      "2183/2183 [==============================] - 191s 88ms/step - loss: 0.9710 - accuracy: 0.6137 - val_loss: 0.9208 - val_accuracy: 0.6548\n",
      "Epoch 3/15\n",
      "2183/2183 [==============================] - 191s 88ms/step - loss: 0.7395 - accuracy: 0.7332 - val_loss: 0.8121 - val_accuracy: 0.7066\n",
      "Epoch 4/15\n",
      "2183/2183 [==============================] - 191s 88ms/step - loss: 0.5828 - accuracy: 0.8005 - val_loss: 0.7892 - val_accuracy: 0.7218\n",
      "Epoch 5/15\n",
      "2183/2183 [==============================] - 191s 88ms/step - loss: 0.4892 - accuracy: 0.8335 - val_loss: 0.8001 - val_accuracy: 0.7265\n",
      "Epoch 6/15\n",
      "2183/2183 [==============================] - 189s 86ms/step - loss: 0.4309 - accuracy: 0.8570 - val_loss: 0.8226 - val_accuracy: 0.7260\n",
      "Epoch 7/15\n",
      "2183/2183 [==============================] - ETA: 0s - loss: 0.3872 - accuracy: 0.8727Restoring model weights from the end of the best epoch.\n",
      "2183/2183 [==============================] - 189s 87ms/step - loss: 0.3872 - accuracy: 0.8727 - val_loss: 0.8480 - val_accuracy: 0.7246\n",
      "Epoch 00007: early stopping\n"
     ]
    }
   ],
   "source": [
    "p_val = np.zeros((x_train.shape[0], n_class))\n",
    "p_tst = np.zeros((tst.shape[0], n_class))\n",
    "for i, (i_trn, i_val) in enumerate(cv.split(x_train, y), 1):\n",
    "    print(f'training model for CV #{i}')\n",
    "    es = EarlyStopping(monitor='val_loss', min_delta=0.001, patience=3,\n",
    "                       verbose=1, mode='min', baseline=None, restore_best_weights=True)\n",
    "    lrs = LearningRateScheduler(scheduler, verbose = 0)\n",
    "    clf = CNNtext(max_length,\n",
    "              encoder.classes_.__len__(),\n",
    "              tokenizer=tokenizer)\n",
    "    clf.fit(x_train[i_trn], \n",
    "            to_categorical(y[i_trn]),\n",
    "            validation_data=(x_train[i_val], to_categorical(y[i_val])),\n",
    "            epochs=15,\n",
    "            callbacks=[es,lrs])\n",
    "    p_val[i_val, :] = clf.predict(x_train[i_val])\n",
    "    p_tst += clf.predict(tst) / n_fold"
   ]
  },
  {
   "cell_type": "code",
   "execution_count": 55,
   "metadata": {},
   "outputs": [
    {
     "name": "stdout",
     "output_type": "stream",
     "text": [
      "Accuracy (CV):  72.6411%\n",
      "Log Loss (CV):   0.7529\n"
     ]
    }
   ],
   "source": [
    "print(f'Accuracy (CV): {accuracy_score(y, np.argmax(p_val, axis=1)) * 100:8.4f}%')\n",
    "print(f'Log Loss (CV): {log_loss(pd.get_dummies(y), p_val):8.4f}')"
   ]
  },
  {
   "cell_type": "code",
   "execution_count": 56,
   "metadata": {},
   "outputs": [],
   "source": [
    "np.savetxt(p_val_file, p_val, fmt='%.6f', delimiter=',')\n",
    "np.savetxt(p_tst_file, p_tst, fmt='%.6f', delimiter=',')"
   ]
  },
  {
   "cell_type": "code",
   "execution_count": null,
   "metadata": {},
   "outputs": [],
   "source": [
    "# submission\n",
    "sample_submission = pd.read_csv('open/sample_submission.csv', encoding = 'utf-8')\n",
    "sample_submission[['0','1','2','3','4']] = p_tst\n",
    "sample_submission\n",
    "\n",
    "sample_submission.to_csv('open/sub/submission_CNN_shared_cv_lrs.csv', index = False, encoding = 'utf-8')\n"
   ]
  }
 ],
 "metadata": {
  "kernelspec": {
   "display_name": "Python 3",
   "language": "python",
   "name": "python3"
  },
  "language_info": {
   "codemirror_mode": {
    "name": "ipython",
    "version": 3
   },
   "file_extension": ".py",
   "mimetype": "text/x-python",
   "name": "python",
   "nbconvert_exporter": "python",
   "pygments_lexer": "ipython3",
   "version": "3.8.3"
  }
 },
 "nbformat": 4,
 "nbformat_minor": 4
}
