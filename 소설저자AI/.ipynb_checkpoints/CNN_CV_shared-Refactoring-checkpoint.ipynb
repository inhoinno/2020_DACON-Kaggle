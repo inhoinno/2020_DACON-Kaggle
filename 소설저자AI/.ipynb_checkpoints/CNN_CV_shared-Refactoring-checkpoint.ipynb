{
 "cells": [
  {
   "cell_type": "code",
   "execution_count": 1,
   "metadata": {},
   "outputs": [],
   "source": [
    "import pandas as pd\n",
    "import numpy as np\n",
    "import seaborn as sns\n",
    "import matplotlib.pyplot as plt\n",
    "import re\n",
    "from pathlib import Path\n",
    "from matplotlib import rcParams, pyplot as plt\n",
    "import numpy as np\n",
    "import os\n",
    "import pandas as pd\n",
    "from pathlib import Path\n",
    "import re\n",
    "from sklearn.metrics import accuracy_score, log_loss\n",
    "from sklearn.model_selection import StratifiedKFold\n",
    "%matplotlib inline\n",
    "%config InlineBackend.figure_format = 'retina'"
   ]
  },
  {
   "cell_type": "code",
   "execution_count": 2,
   "metadata": {},
   "outputs": [],
   "source": [
    "data_dir = Path('./open')\n",
    "feature_dir = Path('./build/feature')\n",
    "val_dir = Path('./ensemble/build/val')\n",
    "tst_dir = Path('./ensemble/build/tst')\n",
    "sub_dir = Path('./open/sub')\n",
    "dirs = [feature_dir, val_dir, tst_dir, sub_dir]\n",
    "for d in dirs:\n",
    "    os.makedirs(d, exist_ok=True)\n",
    "\n",
    "trn_file = data_dir / 'train_processed_500.csv'\n",
    "tst_file = data_dir / 'test_x.csv'\n",
    "sample_file = data_dir / 'sample_submission.csv'\n",
    "glove_file = './dataset/glove.6B/glove.6B.100d.txt'\n",
    "\n",
    "target_col = 'author'\n",
    "n_fold = 5\n",
    "n_class = 5\n",
    "seed = 42"
   ]
  },
  {
   "cell_type": "code",
   "execution_count": 3,
   "metadata": {},
   "outputs": [],
   "source": [
    "algo_name = 'cnn'\n",
    "feature_name = 'glove'\n",
    "model_name = f'{algo_name}_{feature_name}'\n",
    "\n",
    "feature_file = feature_dir / f'{feature_name}.csv'\n",
    "p_val_file = val_dir / f'{model_name}.val.csv'\n",
    "p_tst_file = tst_dir / f'{model_name}.tst.csv'\n",
    "sub_file = sub_dir / f'{model_name}.csv'"
   ]
  },
  {
   "cell_type": "code",
   "execution_count": 4,
   "metadata": {},
   "outputs": [
    {
     "name": "stdout",
     "output_type": "stream",
     "text": [
      "Found 400001 word vectors.\n"
     ]
    }
   ],
   "source": [
    "embeddings_index = {}\n",
    "with open(glove_file, encoding = 'UTF8') as f:\n",
    "    for line in f:\n",
    "        word, coefs = line.split(maxsplit=1)\n",
    "        coefs = np.fromstring(coefs, \"f\", sep=\" \")\n",
    "        embeddings_index[word] = coefs\n",
    "        \n",
    "print(f'Found {len(embeddings_index)} word vectors.')"
   ]
  },
  {
   "cell_type": "markdown",
   "metadata": {},
   "source": [
    "<h2> 학습데이터 로드"
   ]
  },
  {
   "cell_type": "code",
   "execution_count": 5,
   "metadata": {},
   "outputs": [
    {
     "data": {
      "text/html": [
       "<div>\n",
       "<style scoped>\n",
       "    .dataframe tbody tr th:only-of-type {\n",
       "        vertical-align: middle;\n",
       "    }\n",
       "\n",
       "    .dataframe tbody tr th {\n",
       "        vertical-align: top;\n",
       "    }\n",
       "\n",
       "    .dataframe thead th {\n",
       "        text-align: right;\n",
       "    }\n",
       "</style>\n",
       "<table border=\"1\" class=\"dataframe\">\n",
       "  <thead>\n",
       "    <tr style=\"text-align: right;\">\n",
       "      <th></th>\n",
       "      <th>text</th>\n",
       "      <th>author</th>\n",
       "    </tr>\n",
       "    <tr>\n",
       "      <th>index</th>\n",
       "      <th></th>\n",
       "      <th></th>\n",
       "    </tr>\n",
       "  </thead>\n",
       "  <tbody>\n",
       "    <tr>\n",
       "      <th>0</th>\n",
       "      <td>He was almost choking. There was so much, so m...</td>\n",
       "      <td>3</td>\n",
       "    </tr>\n",
       "    <tr>\n",
       "      <th>1</th>\n",
       "      <td>“Your sister asked for it, I suppose?”</td>\n",
       "      <td>2</td>\n",
       "    </tr>\n",
       "    <tr>\n",
       "      <th>2</th>\n",
       "      <td>She was engaged one day as she walked, in per...</td>\n",
       "      <td>1</td>\n",
       "    </tr>\n",
       "    <tr>\n",
       "      <th>3</th>\n",
       "      <td>The captain was in the porch, keeping himself ...</td>\n",
       "      <td>4</td>\n",
       "    </tr>\n",
       "    <tr>\n",
       "      <th>4</th>\n",
       "      <td>“Have mercy, gentlemen!” odin flung up his han...</td>\n",
       "      <td>3</td>\n",
       "    </tr>\n",
       "  </tbody>\n",
       "</table>\n",
       "</div>"
      ],
      "text/plain": [
       "                                                    text  author\n",
       "index                                                           \n",
       "0      He was almost choking. There was so much, so m...       3\n",
       "1                 “Your sister asked for it, I suppose?”       2\n",
       "2       She was engaged one day as she walked, in per...       1\n",
       "3      The captain was in the porch, keeping himself ...       4\n",
       "4      “Have mercy, gentlemen!” odin flung up his han...       3"
      ]
     },
     "execution_count": 5,
     "metadata": {},
     "output_type": "execute_result"
    }
   ],
   "source": [
    "train = pd.read_csv(trn_file, index_col=0)\n",
    "train.head()"
   ]
  },
  {
   "cell_type": "code",
   "execution_count": 6,
   "metadata": {},
   "outputs": [
    {
     "data": {
      "text/html": [
       "<div>\n",
       "<style scoped>\n",
       "    .dataframe tbody tr th:only-of-type {\n",
       "        vertical-align: middle;\n",
       "    }\n",
       "\n",
       "    .dataframe tbody tr th {\n",
       "        vertical-align: top;\n",
       "    }\n",
       "\n",
       "    .dataframe thead th {\n",
       "        text-align: right;\n",
       "    }\n",
       "</style>\n",
       "<table border=\"1\" class=\"dataframe\">\n",
       "  <thead>\n",
       "    <tr style=\"text-align: right;\">\n",
       "      <th></th>\n",
       "      <th>text</th>\n",
       "    </tr>\n",
       "    <tr>\n",
       "      <th>index</th>\n",
       "      <th></th>\n",
       "    </tr>\n",
       "  </thead>\n",
       "  <tbody>\n",
       "    <tr>\n",
       "      <th>0</th>\n",
       "      <td>“Not at all. I think she is one of the most ch...</td>\n",
       "    </tr>\n",
       "    <tr>\n",
       "      <th>1</th>\n",
       "      <td>\"No,\" replied he, with sudden consciousness, \"...</td>\n",
       "    </tr>\n",
       "    <tr>\n",
       "      <th>2</th>\n",
       "      <td>As the lady had stated her intention of scream...</td>\n",
       "    </tr>\n",
       "    <tr>\n",
       "      <th>3</th>\n",
       "      <td>“And then suddenly in the silence I heard a so...</td>\n",
       "    </tr>\n",
       "    <tr>\n",
       "      <th>4</th>\n",
       "      <td>His conviction remained unchanged. So far as I...</td>\n",
       "    </tr>\n",
       "  </tbody>\n",
       "</table>\n",
       "</div>"
      ],
      "text/plain": [
       "                                                    text\n",
       "index                                                   \n",
       "0      “Not at all. I think she is one of the most ch...\n",
       "1      \"No,\" replied he, with sudden consciousness, \"...\n",
       "2      As the lady had stated her intention of scream...\n",
       "3      “And then suddenly in the silence I heard a so...\n",
       "4      His conviction remained unchanged. So far as I..."
      ]
     },
     "execution_count": 6,
     "metadata": {},
     "output_type": "execute_result"
    }
   ],
   "source": [
    "test = pd.read_csv(tst_file, index_col=0)\n",
    "test.head()"
   ]
  },
  {
   "cell_type": "markdown",
   "metadata": {},
   "source": [
    "<h2> Preprocessing"
   ]
  },
  {
   "cell_type": "code",
   "execution_count": 7,
   "metadata": {},
   "outputs": [],
   "source": [
    "def alpha_num(text):\n",
    "    return re.sub(r'[^A-Za-z0-9 ]', '', text)\n",
    "\n",
    "\n",
    "def remove_stopwords(text):\n",
    "    final_text = []\n",
    "    for i in text.split():\n",
    "        if i.strip().lower() not in stopwords:\n",
    "            final_text.append(i.strip())\n",
    "    return \" \".join(final_text)\n",
    "\n",
    "\n",
    "stopwords = [ \"a\", \"about\", \"above\", \"after\", \"again\", \"against\", \"all\", \"am\", \"an\", \"and\", \"any\", \"are\", \"as\", \"odin\",\n",
    "             \"at\", \"be\", \"because\", \"been\", \"before\", \"being\", \"below\", \"between\", \"both\", \"but\", \"by\", \"could\", \n",
    "             \"did\", \"do\", \"does\", \"doing\", \"down\", \"during\", \"each\", \"few\", \"for\", \"from\", \"further\", \"had\", \"has\", \n",
    "             \"have\", \"having\", \"he\", \"he'd\", \"he'll\", \"he's\", \"her\", \"here\", \"here's\", \"hers\", \"herself\", \"him\", \"himself\", \n",
    "             \"his\", \"how\", \"how's\", \"i\", \"i'd\", \"i'll\", \"i'm\", \"i've\", \"if\", \"in\", \"into\", \"is\", \"it\", \"it's\", \"its\", \"itself\", \n",
    "             \"let's\", \"me\", \"more\", \"most\", \"my\", \"myself\", \"nor\", \"of\", \"on\", \"once\", \"only\", \"or\", \"other\", \"ought\", \"our\", \"ours\", \n",
    "             \"ourselves\", \"out\", \"over\", \"own\", \"same\", \"she\", \"she'd\", \"she'll\", \"she's\", \"should\", \"so\", \"some\", \"such\", \"than\", \"that\", \n",
    "             \"that's\", \"the\", \"their\", \"theirs\", \"them\", \"themselves\", \"then\", \"there\", \"there's\", \"these\", \"they\", \"they'd\", \"they'll\", \n",
    "             \"they're\", \"they've\", \"this\", \"those\", \"through\", \"to\", \"too\", \"under\", \"until\", \"up\", \"very\", \"was\", \"we\", \"we'd\", \"we'll\", \n",
    "             \"we're\", \"we've\", \"were\", \"what\", \"what's\", \"when\", \"when's\", \"where\", \"where's\", \"which\", \"while\", \"who\", \"who's\", \"whom\", \n",
    "             \"why\", \"why's\", \"with\", \"would\", \"you\", \"you'd\", \"you'll\", \"you're\", \"you've\", \"your\", \"yours\", \"yourself\", \"yourselves\" ]"
   ]
  },
  {
   "cell_type": "code",
   "execution_count": 8,
   "metadata": {},
   "outputs": [],
   "source": [
    "train['text'] = train['text'].str.lower().apply(alpha_num).apply(remove_stopwords)\n",
    "test['text'] = test['text'].str.lower().apply(alpha_num).apply(remove_stopwords)"
   ]
  },
  {
   "cell_type": "code",
   "execution_count": 9,
   "metadata": {},
   "outputs": [],
   "source": [
    "train['length'] = train['text'].apply(len)"
   ]
  },
  {
   "cell_type": "code",
   "execution_count": 10,
   "metadata": {},
   "outputs": [
    {
     "data": {
      "text/html": [
       "<div>\n",
       "<style scoped>\n",
       "    .dataframe tbody tr th:only-of-type {\n",
       "        vertical-align: middle;\n",
       "    }\n",
       "\n",
       "    .dataframe tbody tr th {\n",
       "        vertical-align: top;\n",
       "    }\n",
       "\n",
       "    .dataframe thead th {\n",
       "        text-align: right;\n",
       "    }\n",
       "</style>\n",
       "<table border=\"1\" class=\"dataframe\">\n",
       "  <thead>\n",
       "    <tr style=\"text-align: right;\">\n",
       "      <th></th>\n",
       "      <th>index</th>\n",
       "      <th>author</th>\n",
       "      <th>length</th>\n",
       "    </tr>\n",
       "  </thead>\n",
       "  <tbody>\n",
       "    <tr>\n",
       "      <th>count</th>\n",
       "      <td>49420.000000</td>\n",
       "      <td>49420.000000</td>\n",
       "      <td>49420.00000</td>\n",
       "    </tr>\n",
       "    <tr>\n",
       "      <th>mean</th>\n",
       "      <td>27442.838062</td>\n",
       "      <td>1.940004</td>\n",
       "      <td>143.06467</td>\n",
       "    </tr>\n",
       "    <tr>\n",
       "      <th>std</th>\n",
       "      <td>15852.437381</td>\n",
       "      <td>1.403680</td>\n",
       "      <td>165.90232</td>\n",
       "    </tr>\n",
       "    <tr>\n",
       "      <th>min</th>\n",
       "      <td>0.000000</td>\n",
       "      <td>0.000000</td>\n",
       "      <td>20.00000</td>\n",
       "    </tr>\n",
       "    <tr>\n",
       "      <th>25%</th>\n",
       "      <td>13715.750000</td>\n",
       "      <td>1.000000</td>\n",
       "      <td>42.00000</td>\n",
       "    </tr>\n",
       "    <tr>\n",
       "      <th>50%</th>\n",
       "      <td>27403.500000</td>\n",
       "      <td>2.000000</td>\n",
       "      <td>75.00000</td>\n",
       "    </tr>\n",
       "    <tr>\n",
       "      <th>75%</th>\n",
       "      <td>41203.250000</td>\n",
       "      <td>3.000000</td>\n",
       "      <td>169.00000</td>\n",
       "    </tr>\n",
       "    <tr>\n",
       "      <th>max</th>\n",
       "      <td>54878.000000</td>\n",
       "      <td>4.000000</td>\n",
       "      <td>1387.00000</td>\n",
       "    </tr>\n",
       "  </tbody>\n",
       "</table>\n",
       "</div>"
      ],
      "text/plain": [
       "              index        author       length\n",
       "count  49420.000000  49420.000000  49420.00000\n",
       "mean   27442.838062      1.940004    143.06467\n",
       "std    15852.437381      1.403680    165.90232\n",
       "min        0.000000      0.000000     20.00000\n",
       "25%    13715.750000      1.000000     42.00000\n",
       "50%    27403.500000      2.000000     75.00000\n",
       "75%    41203.250000      3.000000    169.00000\n",
       "max    54878.000000      4.000000   1387.00000"
      ]
     },
     "execution_count": 10,
     "metadata": {},
     "output_type": "execute_result"
    }
   ],
   "source": [
    "idx_under_20 = train[train['length'] < 20].index\n",
    "train = train.drop(idx_under_20)\n",
    "train = train.reset_index()\n",
    "train.describe()"
   ]
  },
  {
   "cell_type": "code",
   "execution_count": 11,
   "metadata": {},
   "outputs": [
    {
     "data": {
      "text/plain": [
       "<matplotlib.axes._subplots.AxesSubplot at 0x2c229abec10>"
      ]
     },
     "execution_count": 11,
     "metadata": {},
     "output_type": "execute_result"
    },
    {
     "data": {
      "image/png": "[encoded data removed]",
      "text/plain": [
       "<Figure size 432x288 with 1 Axes>"
      ]
     },
     "metadata": {
      "image/png": {
       "height": 274,
       "width": 388
      },
      "needs_background": "light"
     },
     "output_type": "display_data"
    }
   ],
   "source": [
    "train.groupby(train.author).size().reset_index(name=\"counts\").plot.bar(x='author',title=\"Samples per each class (Training set)\",color='red')\n"
   ]
  },
  {
   "cell_type": "code",
   "execution_count": null,
   "metadata": {},
   "outputs": [],
   "source": []
  },
  {
   "cell_type": "code",
   "execution_count": 12,
   "metadata": {},
   "outputs": [
    {
     "name": "stdout",
     "output_type": "stream",
     "text": [
      "(49420,) (19617,) (49420,)\n"
     ]
    }
   ],
   "source": [
    "trn = train['text'].values\n",
    "tst = test['text'].values\n",
    "y = train['author'].values\n",
    "print(trn.shape, tst.shape, y.shape)"
   ]
  },
  {
   "cell_type": "code",
   "execution_count": 13,
   "metadata": {},
   "outputs": [],
   "source": [
    "from sklearn.model_selection import train_test_split\n",
    "SEED = 200\n",
    "X_trn, X_val, y_trn, y_val = train_test_split(train.text, train.author, test_size=0.2, random_state=3,stratify= train.author)"
   ]
  },
  {
   "cell_type": "code",
   "execution_count": 14,
   "metadata": {},
   "outputs": [],
   "source": [
    "from keras.preprocessing.text import Tokenizer\n",
    "tokenizer = Tokenizer(num_words=500000)\n",
    "tokenizer.fit_on_texts(trn)\n",
    "sequences_train = tokenizer.texts_to_sequences(trn)\n",
    "sequences_test = tokenizer.texts_to_sequences(tst)\n",
    "sequences_validation = tokenizer.texts_to_sequences(X_val)"
   ]
  },
  {
   "cell_type": "code",
   "execution_count": null,
   "metadata": {},
   "outputs": [],
   "source": []
  },
  {
   "cell_type": "code",
   "execution_count": 15,
   "metadata": {},
   "outputs": [
    {
     "name": "stdout",
     "output_type": "stream",
     "text": [
      "Train set shape: (49420, 500)\n",
      "Validation set shape: (9884, 500)\n",
      "Test set shape: (19617, 500)\n"
     ]
    }
   ],
   "source": [
    "max_length = 500\n",
    "from keras.preprocessing import sequence\n",
    "x_train=sequence.pad_sequences(sequences_train,maxlen=max_length)\n",
    "x_validation=sequence.pad_sequences(sequences_validation,maxlen=max_length)\n",
    "tst=sequence.pad_sequences(sequences_test,maxlen=max_length)\n",
    "\n",
    "print(f\"Train set shape: {x_train.shape}\\nValidation set shape: {x_validation.shape}\\nTest set shape: {tst.shape}\")"
   ]
  },
  {
   "cell_type": "code",
   "execution_count": 16,
   "metadata": {},
   "outputs": [],
   "source": [
    "from sklearn.preprocessing import LabelBinarizer\n",
    "encoder = LabelBinarizer()\n",
    "y_train_categorical=encoder.fit_transform(y_trn.values.reshape(-1, 1))\n",
    "y_validation_categorical=encoder.transform(train['author'].values.reshape(-1, 1))"
   ]
  },
  {
   "cell_type": "code",
   "execution_count": 17,
   "metadata": {},
   "outputs": [
    {
     "name": "stdout",
     "output_type": "stream",
     "text": [
      "Train set labels: 39536\n",
      "Validation set labels: 49420\n"
     ]
    }
   ],
   "source": [
    "print(f\"Train set labels: {y_train_categorical.__len__()}\\nValidation set labels: {y_validation_categorical.__len__()}\")\n"
   ]
  },
  {
   "cell_type": "markdown",
   "metadata": {},
   "source": [
    "<h2> Glove 임베딩 "
   ]
  },
  {
   "cell_type": "code",
   "execution_count": 18,
   "metadata": {},
   "outputs": [],
   "source": [
    "glove_file = './dataset/glove.6B/glove.6B.100d.txt'\n"
   ]
  },
  {
   "cell_type": "code",
   "execution_count": 19,
   "metadata": {},
   "outputs": [
    {
     "name": "stdout",
     "output_type": "stream",
     "text": [
      "Found 400001 word vectors.\n"
     ]
    }
   ],
   "source": [
    "embeddings_index = {}\n",
    "with open(glove_file, encoding = 'UTF8') as f:\n",
    "    for line in f:\n",
    "        word, coefs = line.split(maxsplit=1)\n",
    "        coefs = np.fromstring(coefs, \"f\", sep=\" \")\n",
    "        embeddings_index[word] = coefs\n",
    "        \n",
    "print(f'Found {len(embeddings_index)} word vectors.')"
   ]
  },
  {
   "cell_type": "code",
   "execution_count": 20,
   "metadata": {},
   "outputs": [],
   "source": [
    "word_index = tokenizer.word_index\n",
    "max_words = tokenizer.num_words"
   ]
  },
  {
   "cell_type": "code",
   "execution_count": 21,
   "metadata": {},
   "outputs": [
    {
     "data": {
      "text/plain": [
       "500000"
      ]
     },
     "execution_count": 21,
     "metadata": {},
     "output_type": "execute_result"
    }
   ],
   "source": [
    "max_words"
   ]
  },
  {
   "cell_type": "code",
   "execution_count": 22,
   "metadata": {},
   "outputs": [],
   "source": [
    "embedding_dim=100\n",
    "embedding_matrix = np.zeros((max_words, embedding_dim))\n",
    "\n",
    "for word, i in word_index.items():\n",
    "    if i< max_words:\n",
    "        embedding_vector = embeddings_index.get(word)\n",
    "        if embedding_vector is not None :\n",
    "            embedding_matrix[i] = embedding_vector# 임베딩 인덱스에 없는 단어는 모두 0이 됨."
   ]
  },
  {
   "cell_type": "markdown",
   "metadata": {},
   "source": [
    "<h2> CNN 하이퍼 파라미터"
   ]
  },
  {
   "cell_type": "code",
   "execution_count": 23,
   "metadata": {},
   "outputs": [],
   "source": [
    "from hyperopt import Trials, STATUS_OK, tpe, fmin, hp\n",
    "from sklearn.model_selection import train_test_split\n"
   ]
  },
  {
   "cell_type": "code",
   "execution_count": 24,
   "metadata": {},
   "outputs": [],
   "source": [
    "def data(batch_size, time_steps, trn, y):\n",
    "    \"\"\"\n",
    "    function that returns data to be fed into objective function and model is trained on it subsequently.\n",
    "    \"\"\"\n",
    "    BATCH_SIZE = batch_size\n",
    "    TIME_STEPS = time_steps\n",
    "    X_trn, X_val, y_trn, y_val = train_test_split(X, y, test_size=.2, random_state=seed)\n",
    "    return  X_trn, X_val, y_trn, y_val"
   ]
  },
  {
   "cell_type": "code",
   "execution_count": 25,
   "metadata": {},
   "outputs": [],
   "source": [
    "search_space = {\n",
    "    #'batch_size': hp.choice('bs', [30,40,50,60,70]),\n",
    "    #'time_steps': hp.choice('ts', [30,50,60,80,90]),\n",
    "    'embedding_dim' : 100,\n",
    "    'embedding_matrix' : embedding_matrix,\n",
    "    'cnn1_nodes': hp.choice('units_lsmt1', [32,64,80]),\n",
    "    'cnn1_dropouts': hp.uniform('dos_lstm1',0,0.5),\n",
    "    \n",
    "    'dense_layers': hp.choice('num_layers_dense',[\n",
    "        {\n",
    "            'layers':'one'\n",
    "        },\n",
    "        {\n",
    "            'layers':'two',\n",
    "            'dense2_nodes': hp.choice('units_dense', [10,16,32,40])\n",
    "        }\n",
    "        ]),\n",
    "    \"lr\": hp.loguniform('lr',np.log(0.01), np.log(0.1)),\n",
    "    \"epochs\": 30,\n",
    "    \"optimizer\": \"Adam\"\n",
    "}"
   ]
  },
  {
   "cell_type": "code",
   "execution_count": null,
   "metadata": {},
   "outputs": [],
   "source": []
  },
  {
   "cell_type": "code",
   "execution_count": null,
   "metadata": {},
   "outputs": [],
   "source": []
  },
  {
   "cell_type": "markdown",
   "metadata": {},
   "source": [
    "<h2> 모델"
   ]
  },
  {
   "cell_type": "code",
   "execution_count": 26,
   "metadata": {},
   "outputs": [],
   "source": [
    "from keras.layers import *\n",
    "from keras import regularizers\n",
    "from keras import Sequential,optimizers\n",
    "from keras_sequential_ascii import keras2ascii\n",
    "\n",
    "class CNNtext(Sequential):\n",
    "    \"\"\"\n",
    "    This class extends  keras.sequencial in order to build our \n",
    "    model according to the designed architecture\n",
    "    \"\"\"\n",
    "    #params for the convolutional layers\n",
    "    __num_filters = 64\n",
    "    __weight_decay = 1e-4\n",
    "    #optimizers\n",
    "    __adam = optimizers.Adam(lr=0.001, beta_1=0.9, beta_2=0.999, epsilon=1e-08, decay=0.0)\n",
    "    def __init__(self,max_length,number_of_classes,embedding_matrix=None,vocab_size=None,tokenizer=None):\n",
    "        #creating the model heritance from Keras.sequencial\n",
    "        super().__init__()\n",
    "        #params for the embedding layer\n",
    "        self.__embedding_dim=100 if embedding_matrix is None else embedding_matrix.shape[1]\n",
    "        #self.__vocab_size=vocab_size if tokenizer is None else tokenizer.word_index.__len__()+1\n",
    "        self.__vocab_size=vocab_size if tokenizer is None else max(tokenizer.index_word.keys())+1\n",
    "        try:\n",
    "            self.__max_length=max_length\n",
    "            self.__number_of_classes=number_of_classes \n",
    "        except NameError as error:\n",
    "            print(\"Error \",error,\" must be defined.\")\n",
    "            \n",
    "        #defining layers\n",
    "        #This layer will learn an embedding the vocab_size is the vocabulary learn from our tokenizer\n",
    "        #the embedding dimension is defined by our selfs in this case we choose a dimension of 100\n",
    "        #the input length is the maximum length of the documents we will use\n",
    "        if embedding_matrix is None:\n",
    "            self.add(Embedding(self.__vocab_size,\n",
    "                               self.__embedding_dim,\n",
    "                               input_length=self.__max_length,trainable=True))\n",
    "        else:\n",
    "            self.add(Embedding(embedding_matrix.shape[0],\n",
    "                               embedding_matrix.shape[1],\n",
    "                               weights=[embedding_matrix],\n",
    "                               input_length=self.__max_length,\n",
    "                               trainable=False))\n",
    "        #then we apply a 1D conv layer that should apply filters to the sequence and generate features maps.\n",
    "        self.add(Conv1D(self.__num_filters, 7, activation='relu', padding='same'))\n",
    "        #then we will get the most important features using a max pooling layer\n",
    "        self.add(MaxPooling1D(2))\n",
    "        #afterwards we apply a conv 1D layer to learn new features form the previous results\n",
    "        self.add(Conv1D(self.__num_filters, 7, activation='relu', padding='same'))\n",
    "        #we select again the most important features\n",
    "        self.add(GlobalMaxPooling1D())\n",
    "        #then we apply dropout to improve the generalization\n",
    "        self.add(Dropout(0.5))\n",
    "        #then we will pass the results into a dense layer that will also learn some internal representation and we also use the l2 regularization\n",
    "        self.add(Dense(32, activation='relu', kernel_regularizer=regularizers.l2(self.__weight_decay)))\n",
    "        #for the final layer we will use softmax to obtain the probabilities of each class.\n",
    "        self.add(Dense(self.__number_of_classes, activation='softmax'))  \n",
    "        #to compute the loss function we use binary_crossentropy\n",
    "        #which is widely used for multi-classification problems\n",
    "        #we also use the adam optimazer to learn the parameters(weights)\n",
    "        #and minimize the loss function.\n",
    "        # 몰랐는데 binary_crossentropy가 multi-classification 에 좋다고 하는군요.\n",
    "        # binary_crossentropy는 반드시 binary-classification에만 써야 하는건줄 알았는데...\n",
    "        self.compile(loss='categorical_crossentropy', optimizer=self.__adam, metrics=['accuracy'])"
   ]
  },
  {
   "cell_type": "code",
   "execution_count": 27,
   "metadata": {},
   "outputs": [],
   "source": [
    "from keras.callbacks import EarlyStopping\n",
    "es = EarlyStopping(monitor='val_loss', min_delta=0.01, patience=2, verbose=1)"
   ]
  },
  {
   "cell_type": "code",
   "execution_count": 28,
   "metadata": {},
   "outputs": [],
   "source": [
    "#training params\n",
    "batch_size = 64\n",
    "num_epochs = 10"
   ]
  },
  {
   "cell_type": "code",
   "execution_count": 29,
   "metadata": {},
   "outputs": [
    {
     "data": {
      "text/plain": [
       "500000"
      ]
     },
     "execution_count": 29,
     "metadata": {},
     "output_type": "execute_result"
    }
   ],
   "source": [
    "tokenizer.num_words"
   ]
  },
  {
   "cell_type": "code",
   "execution_count": 30,
   "metadata": {},
   "outputs": [],
   "source": [
    "max_length=500"
   ]
  },
  {
   "cell_type": "code",
   "execution_count": 31,
   "metadata": {},
   "outputs": [],
   "source": [
    "CNN_BOW=CNNtext(max_length,\n",
    "              encoder.classes_.__len__(),\n",
    "              tokenizer=tokenizer)"
   ]
  },
  {
   "cell_type": "code",
   "execution_count": 32,
   "metadata": {},
   "outputs": [
    {
     "name": "stdout",
     "output_type": "stream",
     "text": [
      "           OPERATION           DATA DIMENSIONS   WEIGHTS(N)   WEIGHTS(%)\n",
      "\n",
      "               Input   #####         500\n",
      "           Embedding   emb | -------------------   4705700    98.4%\n",
      "                       #####    500  100\n",
      "              Conv1D    \\|/  -------------------     44864     0.9%\n",
      "                relu   #####    500   64\n",
      "        MaxPooling1D   Y max -------------------         0     0.0%\n",
      "                       #####    250   64\n",
      "              Conv1D    \\|/  -------------------     28736     0.6%\n",
      "                relu   #####    250   64\n",
      "  GlobalMaxPooling1D   Y^max -------------------         0     0.0%\n",
      "                       #####          64\n",
      "             Dropout    | || -------------------         0     0.0%\n",
      "                       #####          64\n",
      "               Dense   XXXXX -------------------      2080     0.0%\n",
      "                relu   #####          32\n",
      "               Dense   XXXXX -------------------       165     0.0%\n",
      "             softmax   #####           5\n"
     ]
    }
   ],
   "source": [
    "keras2ascii(CNN_BOW)\n"
   ]
  },
  {
   "cell_type": "code",
   "execution_count": null,
   "metadata": {},
   "outputs": [],
   "source": []
  },
  {
   "cell_type": "code",
   "execution_count": 33,
   "metadata": {
    "scrolled": true
   },
   "outputs": [
    {
     "data": {
      "text/plain": [
       "((49420, 500), (39536, 5), (9884, 500), (49420, 5))"
      ]
     },
     "execution_count": 33,
     "metadata": {},
     "output_type": "execute_result"
    }
   ],
   "source": [
    "x_train.shape, y_train_categorical.shape, x_validation.shape, y_validation_categorical.shape"
   ]
  },
  {
   "cell_type": "code",
   "execution_count": 34,
   "metadata": {},
   "outputs": [],
   "source": [
    "n_fold = 5\n",
    "n_class = 5\n",
    "seed = 777"
   ]
  },
  {
   "cell_type": "code",
   "execution_count": 35,
   "metadata": {},
   "outputs": [],
   "source": [
    "cv = StratifiedKFold(n_splits=n_fold, shuffle=True, random_state=seed)"
   ]
  },
  {
   "cell_type": "code",
   "execution_count": 36,
   "metadata": {},
   "outputs": [
    {
     "data": {
      "text/plain": [
       "((49420, 500), (49420,))"
      ]
     },
     "execution_count": 36,
     "metadata": {},
     "output_type": "execute_result"
    }
   ],
   "source": [
    "x_train.shape, y.shape"
   ]
  },
  {
   "cell_type": "code",
   "execution_count": 37,
   "metadata": {},
   "outputs": [
    {
     "data": {
      "text/plain": [
       "(19617, 500)"
      ]
     },
     "execution_count": 37,
     "metadata": {},
     "output_type": "execute_result"
    }
   ],
   "source": [
    "tst.shape"
   ]
  },
  {
   "cell_type": "code",
   "execution_count": 38,
   "metadata": {},
   "outputs": [],
   "source": [
    "from tensorflow.keras.utils import plot_model, to_categorical"
   ]
  },
  {
   "cell_type": "code",
   "execution_count": 39,
   "metadata": {},
   "outputs": [
    {
     "name": "stdout",
     "output_type": "stream",
     "text": [
      "training model for CV #1\n",
      "Epoch 1/15\n",
      "1236/1236 [==============================] - 98s 79ms/step - loss: 1.0995 - accuracy: 0.5537 - val_loss: 0.7861 - val_accuracy: 0.6999\n",
      "Epoch 2/15\n",
      "1236/1236 [==============================] - 94s 76ms/step - loss: 0.6179 - accuracy: 0.7785 - val_loss: 0.7098 - val_accuracy: 0.7432\n",
      "Epoch 3/15\n",
      "1236/1236 [==============================] - 92s 75ms/step - loss: 0.4031 - accuracy: 0.8608 - val_loss: 0.7597 - val_accuracy: 0.7479\n",
      "Epoch 4/15\n",
      "1236/1236 [==============================] - 97s 78ms/step - loss: 0.2778 - accuracy: 0.9048 - val_loss: 0.9323 - val_accuracy: 0.7442\n",
      "Epoch 5/15\n",
      "1236/1236 [==============================] - ETA: 0s - loss: 0.1929 - accuracy: 0.9351Restoring model weights from the end of the best epoch.\n",
      "1236/1236 [==============================] - 96s 78ms/step - loss: 0.1929 - accuracy: 0.9351 - val_loss: 1.0601 - val_accuracy: 0.7265\n",
      "Epoch 00005: early stopping\n",
      "training model for CV #2\n",
      "Epoch 1/15\n",
      "1236/1236 [==============================] - 99s 80ms/step - loss: 1.0545 - accuracy: 0.5752 - val_loss: 0.7713 - val_accuracy: 0.7084\n",
      "Epoch 2/15\n",
      "1236/1236 [==============================] - 96s 77ms/step - loss: 0.5840 - accuracy: 0.7922 - val_loss: 0.6942 - val_accuracy: 0.7468\n",
      "Epoch 3/15\n",
      "1236/1236 [==============================] - 96s 78ms/step - loss: 0.3735 - accuracy: 0.8713 - val_loss: 0.7557 - val_accuracy: 0.7518\n",
      "Epoch 4/15\n",
      "1236/1236 [==============================] - 94s 76ms/step - loss: 0.2519 - accuracy: 0.9148 - val_loss: 0.8262 - val_accuracy: 0.7500\n",
      "Epoch 5/15\n",
      "1236/1236 [==============================] - ETA: 0s - loss: 0.1707 - accuracy: 0.9441Restoring model weights from the end of the best epoch.\n",
      "1236/1236 [==============================] - 95s 77ms/step - loss: 0.1707 - accuracy: 0.9441 - val_loss: 0.9935 - val_accuracy: 0.7437\n",
      "Epoch 00005: early stopping\n",
      "training model for CV #3\n",
      "Epoch 1/15\n",
      "1236/1236 [==============================] - 96s 78ms/step - loss: 1.1033 - accuracy: 0.5581 - val_loss: 0.8062 - val_accuracy: 0.6969\n",
      "Epoch 2/15\n",
      "1236/1236 [==============================] - 95s 77ms/step - loss: 0.6203 - accuracy: 0.7781 - val_loss: 0.7396 - val_accuracy: 0.7323\n",
      "Epoch 3/15\n",
      "1236/1236 [==============================] - 97s 79ms/step - loss: 0.3979 - accuracy: 0.8648 - val_loss: 0.7885 - val_accuracy: 0.7351\n",
      "Epoch 4/15\n",
      "1236/1236 [==============================] - 97s 78ms/step - loss: 0.2610 - accuracy: 0.9117 - val_loss: 0.9643 - val_accuracy: 0.7276\n",
      "Epoch 5/15\n",
      "1236/1236 [==============================] - ETA: 0s - loss: 0.1766 - accuracy: 0.9416Restoring model weights from the end of the best epoch.\n",
      "1236/1236 [==============================] - 98s 79ms/step - loss: 0.1766 - accuracy: 0.9416 - val_loss: 1.0617 - val_accuracy: 0.7338\n",
      "Epoch 00005: early stopping\n",
      "training model for CV #4\n",
      "Epoch 1/15\n",
      "1236/1236 [==============================] - 95s 77ms/step - loss: 1.0783 - accuracy: 0.5659 - val_loss: 0.8162 - val_accuracy: 0.6876\n",
      "Epoch 2/15\n",
      "1236/1236 [==============================] - 97s 78ms/step - loss: 0.6307 - accuracy: 0.7682 - val_loss: 0.7437 - val_accuracy: 0.7311\n",
      "Epoch 3/15\n",
      "1236/1236 [==============================] - 96s 78ms/step - loss: 0.4090 - accuracy: 0.8590 - val_loss: 0.7770 - val_accuracy: 0.7379\n",
      "Epoch 4/15\n",
      "1236/1236 [==============================] - 96s 77ms/step - loss: 0.2744 - accuracy: 0.9079 - val_loss: 0.9129 - val_accuracy: 0.7365\n",
      "Epoch 5/15\n",
      "1236/1236 [==============================] - ETA: 0s - loss: 0.1832 - accuracy: 0.9393Restoring model weights from the end of the best epoch.\n",
      "1236/1236 [==============================] - 95s 77ms/step - loss: 0.1832 - accuracy: 0.9393 - val_loss: 1.0593 - val_accuracy: 0.7309\n",
      "Epoch 00005: early stopping\n",
      "training model for CV #5\n",
      "Epoch 1/15\n",
      "1236/1236 [==============================] - 94s 76ms/step - loss: 1.1268 - accuracy: 0.5396 - val_loss: 0.8826 - val_accuracy: 0.6490\n",
      "Epoch 2/15\n",
      "1236/1236 [==============================] - 95s 77ms/step - loss: 0.7096 - accuracy: 0.7218 - val_loss: 0.7549 - val_accuracy: 0.7240\n",
      "Epoch 3/15\n",
      "1236/1236 [==============================] - 93s 75ms/step - loss: 0.4588 - accuracy: 0.8369 - val_loss: 0.7407 - val_accuracy: 0.7407\n",
      "Epoch 4/15\n",
      "1236/1236 [==============================] - 94s 76ms/step - loss: 0.3014 - accuracy: 0.8984 - val_loss: 0.8221 - val_accuracy: 0.7407\n",
      "Epoch 5/15\n",
      "1236/1236 [==============================] - 98s 80ms/step - loss: 0.2079 - accuracy: 0.9300 - val_loss: 1.0000 - val_accuracy: 0.7404\n",
      "Epoch 6/15\n",
      "1236/1236 [==============================] - ETA: 0s - loss: 0.1456 - accuracy: 0.9527Restoring model weights from the end of the best epoch.\n",
      "1236/1236 [==============================] - 97s 78ms/step - loss: 0.1456 - accuracy: 0.9527 - val_loss: 1.0853 - val_accuracy: 0.7417\n",
      "Epoch 00006: early stopping\n"
     ]
    }
   ],
   "source": [
    "p_val = np.zeros((x_train.shape[0], n_class))\n",
    "p_tst = np.zeros((tst.shape[0], n_class))\n",
    "for i, (i_trn, i_val) in enumerate(cv.split(x_train, y), 1):\n",
    "    print(f'training model for CV #{i}')\n",
    "    es = EarlyStopping(monitor='val_loss', min_delta=0.001, patience=3,\n",
    "                       verbose=1, mode='min', baseline=None, restore_best_weights=True)\n",
    "    \n",
    "    clf = CNNtext(max_length,\n",
    "              encoder.classes_.__len__(),\n",
    "              tokenizer=tokenizer)\n",
    "    clf.fit(x_train[i_trn], \n",
    "            to_categorical(y[i_trn]),\n",
    "            validation_data=(x_train[i_val], to_categorical(y[i_val])),\n",
    "            epochs=15,\n",
    "            callbacks=[es])\n",
    "    p_val[i_val, :] = clf.predict(x_train[i_val])\n",
    "    p_tst += clf.predict(tst) / n_fold"
   ]
  },
  {
   "cell_type": "code",
   "execution_count": 41,
   "metadata": {},
   "outputs": [
    {
     "name": "stdout",
     "output_type": "stream",
     "text": [
      "Accuracy (CV):  73.8810%\n",
      "Log Loss (CV):   0.7227\n"
     ]
    }
   ],
   "source": [
    "print(f'Accuracy (CV): {accuracy_score(y, np.argmax(p_val, axis=1)) * 100:8.4f}%')\n",
    "print(f'Log Loss (CV): {log_loss(pd.get_dummies(y), p_val):8.4f}')"
   ]
  },
  {
   "cell_type": "code",
   "execution_count": 42,
   "metadata": {},
   "outputs": [],
   "source": [
    "np.savetxt(p_val_file, p_val, fmt='%.6f', delimiter=',')\n",
    "np.savetxt(p_tst_file, p_tst, fmt='%.6f', delimiter=',')"
   ]
  },
  {
   "cell_type": "code",
   "execution_count": 40,
   "metadata": {},
   "outputs": [
    {
     "ename": "ValueError",
     "evalue": "Data cardinality is ambiguous:\n  x sizes: 49420\n  y sizes: 39536\nPlease provide data which shares the same first dimension.",
     "output_type": "error",
     "traceback": [
      "\u001b[1;31m---------------------------------------------------------------------------\u001b[0m",
      "\u001b[1;31mValueError\u001b[0m                                Traceback (most recent call last)",
      "\u001b[1;32m<ipython-input-40-4620560cacfa>\u001b[0m in \u001b[0;36m<module>\u001b[1;34m\u001b[0m\n\u001b[1;32m----> 1\u001b[1;33m hist = CNN_BOW.fit(x_train, y_train_categorical,\n\u001b[0m\u001b[0;32m      2\u001b[0m                  \u001b[0mbatch_size\u001b[0m\u001b[1;33m=\u001b[0m\u001b[0mbatch_size\u001b[0m\u001b[1;33m,\u001b[0m \u001b[0mepochs\u001b[0m\u001b[1;33m=\u001b[0m\u001b[0mnum_epochs\u001b[0m\u001b[1;33m,\u001b[0m \u001b[0mcallbacks\u001b[0m\u001b[1;33m=\u001b[0m\u001b[1;33m[\u001b[0m\u001b[0mes\u001b[0m\u001b[1;33m]\u001b[0m\u001b[1;33m,\u001b[0m\u001b[1;33m\u001b[0m\u001b[1;33m\u001b[0m\u001b[0m\n\u001b[0;32m      3\u001b[0m                  \u001b[0mvalidation_data\u001b[0m\u001b[1;33m=\u001b[0m\u001b[1;33m(\u001b[0m\u001b[0mx_validation\u001b[0m\u001b[1;33m,\u001b[0m\u001b[0my_validation_categorical\u001b[0m\u001b[1;33m)\u001b[0m\u001b[1;33m,\u001b[0m\u001b[1;33m\u001b[0m\u001b[1;33m\u001b[0m\u001b[0m\n\u001b[0;32m      4\u001b[0m                  shuffle=True)\n",
      "\u001b[1;32m~\\anaconda3\\lib\\site-packages\\tensorflow\\python\\keras\\engine\\training.py\u001b[0m in \u001b[0;36m_method_wrapper\u001b[1;34m(self, *args, **kwargs)\u001b[0m\n\u001b[0;32m    106\u001b[0m   \u001b[1;32mdef\u001b[0m \u001b[0m_method_wrapper\u001b[0m\u001b[1;33m(\u001b[0m\u001b[0mself\u001b[0m\u001b[1;33m,\u001b[0m \u001b[1;33m*\u001b[0m\u001b[0margs\u001b[0m\u001b[1;33m,\u001b[0m \u001b[1;33m**\u001b[0m\u001b[0mkwargs\u001b[0m\u001b[1;33m)\u001b[0m\u001b[1;33m:\u001b[0m\u001b[1;33m\u001b[0m\u001b[1;33m\u001b[0m\u001b[0m\n\u001b[0;32m    107\u001b[0m     \u001b[1;32mif\u001b[0m \u001b[1;32mnot\u001b[0m \u001b[0mself\u001b[0m\u001b[1;33m.\u001b[0m\u001b[0m_in_multi_worker_mode\u001b[0m\u001b[1;33m(\u001b[0m\u001b[1;33m)\u001b[0m\u001b[1;33m:\u001b[0m  \u001b[1;31m# pylint: disable=protected-access\u001b[0m\u001b[1;33m\u001b[0m\u001b[1;33m\u001b[0m\u001b[0m\n\u001b[1;32m--> 108\u001b[1;33m       \u001b[1;32mreturn\u001b[0m \u001b[0mmethod\u001b[0m\u001b[1;33m(\u001b[0m\u001b[0mself\u001b[0m\u001b[1;33m,\u001b[0m \u001b[1;33m*\u001b[0m\u001b[0margs\u001b[0m\u001b[1;33m,\u001b[0m \u001b[1;33m**\u001b[0m\u001b[0mkwargs\u001b[0m\u001b[1;33m)\u001b[0m\u001b[1;33m\u001b[0m\u001b[1;33m\u001b[0m\u001b[0m\n\u001b[0m\u001b[0;32m    109\u001b[0m \u001b[1;33m\u001b[0m\u001b[0m\n\u001b[0;32m    110\u001b[0m     \u001b[1;31m# Running inside `run_distribute_coordinator` already.\u001b[0m\u001b[1;33m\u001b[0m\u001b[1;33m\u001b[0m\u001b[1;33m\u001b[0m\u001b[0m\n",
      "\u001b[1;32m~\\anaconda3\\lib\\site-packages\\tensorflow\\python\\keras\\engine\\training.py\u001b[0m in \u001b[0;36mfit\u001b[1;34m(self, x, y, batch_size, epochs, verbose, callbacks, validation_split, validation_data, shuffle, class_weight, sample_weight, initial_epoch, steps_per_epoch, validation_steps, validation_batch_size, validation_freq, max_queue_size, workers, use_multiprocessing)\u001b[0m\n\u001b[0;32m   1047\u001b[0m          \u001b[0mtraining_utils\u001b[0m\u001b[1;33m.\u001b[0m\u001b[0mRespectCompiledTrainableState\u001b[0m\u001b[1;33m(\u001b[0m\u001b[0mself\u001b[0m\u001b[1;33m)\u001b[0m\u001b[1;33m:\u001b[0m\u001b[1;33m\u001b[0m\u001b[1;33m\u001b[0m\u001b[0m\n\u001b[0;32m   1048\u001b[0m       \u001b[1;31m# Creates a `tf.data.Dataset` and handles batch and epoch iteration.\u001b[0m\u001b[1;33m\u001b[0m\u001b[1;33m\u001b[0m\u001b[1;33m\u001b[0m\u001b[0m\n\u001b[1;32m-> 1049\u001b[1;33m       data_handler = data_adapter.DataHandler(\n\u001b[0m\u001b[0;32m   1050\u001b[0m           \u001b[0mx\u001b[0m\u001b[1;33m=\u001b[0m\u001b[0mx\u001b[0m\u001b[1;33m,\u001b[0m\u001b[1;33m\u001b[0m\u001b[1;33m\u001b[0m\u001b[0m\n\u001b[0;32m   1051\u001b[0m           \u001b[0my\u001b[0m\u001b[1;33m=\u001b[0m\u001b[0my\u001b[0m\u001b[1;33m,\u001b[0m\u001b[1;33m\u001b[0m\u001b[1;33m\u001b[0m\u001b[0m\n",
      "\u001b[1;32m~\\anaconda3\\lib\\site-packages\\tensorflow\\python\\keras\\engine\\data_adapter.py\u001b[0m in \u001b[0;36m__init__\u001b[1;34m(self, x, y, sample_weight, batch_size, steps_per_epoch, initial_epoch, epochs, shuffle, class_weight, max_queue_size, workers, use_multiprocessing, model, steps_per_execution)\u001b[0m\n\u001b[0;32m   1103\u001b[0m \u001b[1;33m\u001b[0m\u001b[0m\n\u001b[0;32m   1104\u001b[0m     \u001b[0madapter_cls\u001b[0m \u001b[1;33m=\u001b[0m \u001b[0mselect_data_adapter\u001b[0m\u001b[1;33m(\u001b[0m\u001b[0mx\u001b[0m\u001b[1;33m,\u001b[0m \u001b[0my\u001b[0m\u001b[1;33m)\u001b[0m\u001b[1;33m\u001b[0m\u001b[1;33m\u001b[0m\u001b[0m\n\u001b[1;32m-> 1105\u001b[1;33m     self._adapter = adapter_cls(\n\u001b[0m\u001b[0;32m   1106\u001b[0m         \u001b[0mx\u001b[0m\u001b[1;33m,\u001b[0m\u001b[1;33m\u001b[0m\u001b[1;33m\u001b[0m\u001b[0m\n\u001b[0;32m   1107\u001b[0m         \u001b[0my\u001b[0m\u001b[1;33m,\u001b[0m\u001b[1;33m\u001b[0m\u001b[1;33m\u001b[0m\u001b[0m\n",
      "\u001b[1;32m~\\anaconda3\\lib\\site-packages\\tensorflow\\python\\keras\\engine\\data_adapter.py\u001b[0m in \u001b[0;36m__init__\u001b[1;34m(self, x, y, sample_weights, sample_weight_modes, batch_size, epochs, steps, shuffle, **kwargs)\u001b[0m\n\u001b[0;32m    280\u001b[0m             label, \", \".join(str(i.shape[0]) for i in nest.flatten(data)))\n\u001b[0;32m    281\u001b[0m       \u001b[0mmsg\u001b[0m \u001b[1;33m+=\u001b[0m \u001b[1;34m\"Please provide data which shares the same first dimension.\"\u001b[0m\u001b[1;33m\u001b[0m\u001b[1;33m\u001b[0m\u001b[0m\n\u001b[1;32m--> 282\u001b[1;33m       \u001b[1;32mraise\u001b[0m \u001b[0mValueError\u001b[0m\u001b[1;33m(\u001b[0m\u001b[0mmsg\u001b[0m\u001b[1;33m)\u001b[0m\u001b[1;33m\u001b[0m\u001b[1;33m\u001b[0m\u001b[0m\n\u001b[0m\u001b[0;32m    283\u001b[0m     \u001b[0mnum_samples\u001b[0m \u001b[1;33m=\u001b[0m \u001b[0mnum_samples\u001b[0m\u001b[1;33m.\u001b[0m\u001b[0mpop\u001b[0m\u001b[1;33m(\u001b[0m\u001b[1;33m)\u001b[0m\u001b[1;33m\u001b[0m\u001b[1;33m\u001b[0m\u001b[0m\n\u001b[0;32m    284\u001b[0m \u001b[1;33m\u001b[0m\u001b[0m\n",
      "\u001b[1;31mValueError\u001b[0m: Data cardinality is ambiguous:\n  x sizes: 49420\n  y sizes: 39536\nPlease provide data which shares the same first dimension."
     ]
    }
   ],
   "source": [
    "hist = CNN_BOW.fit(x_train, y_train_categorical,\n",
    "                 batch_size=batch_size, epochs=num_epochs, callbacks=[es],\n",
    "                 validation_data=(x_validation,y_validation_categorical),\n",
    "                 shuffle=True)"
   ]
  },
  {
   "cell_type": "code",
   "execution_count": null,
   "metadata": {},
   "outputs": [],
   "source": [
    "def plot_model_perfomance(hist,name):\n",
    "    plt.style.use('fivethirtyeight')\n",
    "    plt.figure(1)\n",
    "    plt.plot(hist.history['loss'], lw=2.0, color='b', label='train')\n",
    "    plt.plot(hist.history['val_loss'], lw=2.0, color='r', label='val')\n",
    "    plt.title(name)\n",
    "    plt.xlabel('Epochs')\n",
    "    plt.ylabel('Cross-Entropy Loss')\n",
    "    plt.legend(loc='upper right')\n",
    "    plt.figure(2)\n",
    "    plt.plot(hist.history['accuracy'], lw=2.0, color='b', label='train')\n",
    "    plt.plot(hist.history['val_accuracy'], lw=2.0, color='r', label='val')\n",
    "    plt.title(name)\n",
    "    plt.xlabel('Epochs')\n",
    "    plt.ylabel('Accuracy')\n",
    "    plt.legend(loc='upper left')\n",
    "    plt.show()"
   ]
  },
  {
   "cell_type": "code",
   "execution_count": null,
   "metadata": {},
   "outputs": [],
   "source": [
    "plot_model_perfomance(hist,'CNN BOW')\n"
   ]
  },
  {
   "cell_type": "code",
   "execution_count": null,
   "metadata": {},
   "outputs": [],
   "source": [
    "bow_predict_y_validation = CNN_BOW.predict(x_validation,verbose=1)\n"
   ]
  },
  {
   "cell_type": "code",
   "execution_count": null,
   "metadata": {},
   "outputs": [],
   "source": [
    "bow_predict_y_validation= encoder.inverse_transform(bow_predict_y_validation)\n"
   ]
  },
  {
   "cell_type": "code",
   "execution_count": null,
   "metadata": {},
   "outputs": [],
   "source": [
    "from sklearn.metrics import confusion_matrix\n",
    "def plot_confusion_matrix(y=None,y_predict=None,classes=None,name=None):\n",
    "    plt.figure(figsize=(30, 30))\n",
    "    sns.heatmap(confusion_matrix(y,y_predict), \n",
    "                xticklabels=classes,\n",
    "                yticklabels=classes)\n",
    "    plt.title(name)\n",
    "    plt.show()"
   ]
  },
  {
   "cell_type": "code",
   "execution_count": null,
   "metadata": {
    "scrolled": true
   },
   "outputs": [],
   "source": [
    "plot_confusion_matrix(y_val,bow_predict_y_validation,encoder.classes_,'Validation accuracy CNN BOW')\n"
   ]
  },
  {
   "cell_type": "code",
   "execution_count": 43,
   "metadata": {},
   "outputs": [
    {
     "ename": "NameError",
     "evalue": "name 'pred' is not defined",
     "output_type": "error",
     "traceback": [
      "\u001b[1;31m---------------------------------------------------------------------------\u001b[0m",
      "\u001b[1;31mNameError\u001b[0m                                 Traceback (most recent call last)",
      "\u001b[1;32m<ipython-input-43-eb91f69fdacb>\u001b[0m in \u001b[0;36m<module>\u001b[1;34m\u001b[0m\n\u001b[0;32m      1\u001b[0m \u001b[1;31m# submission\u001b[0m\u001b[1;33m\u001b[0m\u001b[1;33m\u001b[0m\u001b[1;33m\u001b[0m\u001b[0m\n\u001b[0;32m      2\u001b[0m \u001b[0msample_submission\u001b[0m \u001b[1;33m=\u001b[0m \u001b[0mpd\u001b[0m\u001b[1;33m.\u001b[0m\u001b[0mread_csv\u001b[0m\u001b[1;33m(\u001b[0m\u001b[1;34m'open/sample_submission.csv'\u001b[0m\u001b[1;33m,\u001b[0m \u001b[0mencoding\u001b[0m \u001b[1;33m=\u001b[0m \u001b[1;34m'utf-8'\u001b[0m\u001b[1;33m)\u001b[0m\u001b[1;33m\u001b[0m\u001b[1;33m\u001b[0m\u001b[0m\n\u001b[1;32m----> 3\u001b[1;33m \u001b[0msample_submission\u001b[0m\u001b[1;33m[\u001b[0m\u001b[1;33m[\u001b[0m\u001b[1;34m'0'\u001b[0m\u001b[1;33m,\u001b[0m\u001b[1;34m'1'\u001b[0m\u001b[1;33m,\u001b[0m\u001b[1;34m'2'\u001b[0m\u001b[1;33m,\u001b[0m\u001b[1;34m'3'\u001b[0m\u001b[1;33m,\u001b[0m\u001b[1;34m'4'\u001b[0m\u001b[1;33m]\u001b[0m\u001b[1;33m]\u001b[0m \u001b[1;33m=\u001b[0m \u001b[0mpred\u001b[0m\u001b[1;33m\u001b[0m\u001b[1;33m\u001b[0m\u001b[0m\n\u001b[0m\u001b[0;32m      4\u001b[0m \u001b[0msample_submission\u001b[0m\u001b[1;33m\u001b[0m\u001b[1;33m\u001b[0m\u001b[0m\n\u001b[0;32m      5\u001b[0m \u001b[1;33m\u001b[0m\u001b[0m\n",
      "\u001b[1;31mNameError\u001b[0m: name 'pred' is not defined"
     ]
    }
   ],
   "source": [
    "# submission\n",
    "sample_submission = pd.read_csv('open/sample_submission.csv', encoding = 'utf-8')\n",
    "sample_submission[['0','1','2','3','4']] = pred\n",
    "sample_submission\n",
    "\n",
    "sample_submission.to_csv('open/sub/submission_CNN_shared_cv7227.csv', index = False, encoding = 'utf-8')\n"
   ]
  }
 ],
 "metadata": {
  "kernelspec": {
   "display_name": "Python 3",
   "language": "python",
   "name": "python3"
  },
  "language_info": {
   "codemirror_mode": {
    "name": "ipython",
    "version": 3
   },
   "file_extension": ".py",
   "mimetype": "text/x-python",
   "name": "python",
   "nbconvert_exporter": "python",
   "pygments_lexer": "ipython3",
   "version": "3.8.3"
  }
 },
 "nbformat": 4,
 "nbformat_minor": 4
}
